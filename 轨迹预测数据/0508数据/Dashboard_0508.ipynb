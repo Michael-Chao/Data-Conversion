{
 "cells": [
  {
   "cell_type": "code",
   "id": "initial_id",
   "metadata": {
    "collapsed": true,
    "ExecuteTime": {
     "end_time": "2024-05-08T07:49:35.112249Z",
     "start_time": "2024-05-08T07:49:35.106746Z"
    }
   },
   "source": [
    "import os\n",
    "\n",
    "# 定义文件夹路径\n",
    "folder_path = r'D:\\Project\\Convert_Dataset\\轨迹预测数据\\0508数据\\2_noParking_0508'\n",
    "\n",
    "# 存储CSV文件名的列表\n",
    "csv_file_names = []\n",
    "\n",
    "# 遍历文件夹中的所有文件\n",
    "for file_name in os.listdir(folder_path):\n",
    "    # 检查文件扩展名是否为.csv\n",
    "    if file_name.endswith('.csv'):\n",
    "        csv_file_names.append(file_name)\n",
    "\n",
    "# 打印CSV文件名\n",
    "for file_name in csv_file_names:\n",
    "    print(file_name)\n",
    "\n",
    "# 如果需要，也可以打印文件名的总数\n",
    "print(f\"总共找到 {len(csv_file_names)} 个CSV文件。\")"
   ],
   "outputs": [
    {
     "name": "stdout",
     "output_type": "stream",
     "text": [
      "20220701_1.csv\n",
      "20220701_2.csv\n",
      "20220701_3.csv\n",
      "20220701_4.csv\n",
      "20220703_1.csv\n",
      "20220703_2.csv\n",
      "20220703_4.csv\n",
      "20220704_1.csv\n",
      "20220704_2.csv\n",
      "20220704_3.csv\n",
      "20220704_4.csv\n",
      "20220706_1.csv\n",
      "20220706_2.csv\n",
      "20220706_3.csv\n",
      "20220706_4.csv\n",
      "20220708_1.csv\n",
      "20220708_2.csv\n",
      "20220708_3.csv\n",
      "20220708_4.csv\n",
      "20220710_1.csv\n",
      "20220710_2.csv\n",
      "20220710_4.csv\n",
      "20220711_2.csv\n",
      "20220711_4.csv\n",
      "20220713_2.csv\n",
      "20220715_2.csv\n",
      "20220718_4.csv\n",
      "20220719_2.csv\n",
      "20220720_2.csv\n",
      "20220724_4.csv\n",
      "总共找到 30 个CSV文件。\n"
     ]
    }
   ],
   "execution_count": 2
  },
  {
   "metadata": {
    "ExecuteTime": {
     "end_time": "2024-05-08T07:51:22.588418Z",
     "start_time": "2024-05-08T07:51:22.221137Z"
    }
   },
   "cell_type": "code",
   "source": [
    "import os\n",
    "import pandas as pd\n",
    "\n",
    "# 定义文件夹路径\n",
    "folder_path = r'D:\\Project\\Convert_Dataset\\轨迹预测数据\\0508数据\\2_noParking_0508'\n",
    "\n",
    "# 获取CSV文件列表\n",
    "csv_file_names = [file_name for file_name in os.listdir(folder_path) if file_name.endswith('.csv')]\n",
    "\n",
    "# 创建一个DataFrame来保存文件名\n",
    "file_names_df = pd.DataFrame(csv_file_names, columns=['File Names'])\n",
    "\n",
    "# 定义输出Excel文件的路径\n",
    "output_file_path = r'D:\\Project\\Convert_Dataset\\轨迹预测数据\\0508数据\\file_list.xlsx'\n",
    "\n",
    "# 将DataFrame保存为Excel文件\n",
    "file_names_df.to_excel(output_file_path, index=False, header=True)\n",
    "\n",
    "print(f\"文件名已保存至 '{output_file_path}'\")"
   ],
   "id": "aadf42f7c649f43d",
   "outputs": [
    {
     "name": "stdout",
     "output_type": "stream",
     "text": [
      "文件名已保存至 'D:\\Project\\Convert_Dataset\\轨迹预测数据\\0508数据\\file_list.xlsx'\n"
     ]
    }
   ],
   "execution_count": 3
  },
  {
   "metadata": {
    "ExecuteTime": {
     "end_time": "2024-05-08T08:47:35.354703Z",
     "start_time": "2024-05-08T08:47:35.340712Z"
    }
   },
   "cell_type": "code",
   "source": [
    "import pandas as pd\n",
    "\n",
    "# 读取CSV文件\n",
    "df = pd.read_csv(r'D:\\Project\\Convert_Dataset\\轨迹预测数据\\0508数据\\2_noParking_0508\\20220703_4.csv')\n",
    "\n",
    "# 将-10替换为NaN\n",
    "df.replace(-10, float('nan'), inplace=True)\n",
    "\n",
    "# 对航向角和地速进行线性插值\n",
    "df['TA'] = df['TA'].interpolate(method='linear')\n",
    "df['GS'] = df['GS'].interpolate(method='linear')\n",
    "\n",
    "# 保存处理后的数据\n",
    "df.to_csv(r'D:\\Project\\Convert_Dataset\\轨迹预测数据\\0508数据\\2_noParking_0508\\20220703_4_interpolated.csv')"
   ],
   "id": "acb372dff8127e28",
   "outputs": [],
   "execution_count": 3
  },
  {
   "metadata": {},
   "cell_type": "code",
   "outputs": [],
   "execution_count": null,
   "source": "",
   "id": "fdc29e38d869820d"
  }
 ],
 "metadata": {
  "kernelspec": {
   "display_name": "Python 3",
   "language": "python",
   "name": "python3"
  },
  "language_info": {
   "codemirror_mode": {
    "name": "ipython",
    "version": 2
   },
   "file_extension": ".py",
   "mimetype": "text/x-python",
   "name": "python",
   "nbconvert_exporter": "python",
   "pygments_lexer": "ipython2",
   "version": "2.7.6"
  }
 },
 "nbformat": 4,
 "nbformat_minor": 5
}
