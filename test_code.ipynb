{
 "cells": [
  {
   "cell_type": "code",
   "execution_count": 64,
   "id": "initial_id",
   "metadata": {
    "ExecuteTime": {
     "end_time": "2024-01-24T13:35:11.147145500Z",
     "start_time": "2024-01-24T13:35:11.106549700Z"
    }
   },
   "outputs": [],
   "source": [
    "import cv2\n",
    "import matplotlib.pyplot as plt\n",
    "import os\n",
    "import random\n",
    "import json"
   ]
  },
  {
   "cell_type": "code",
   "execution_count": 65,
   "id": "e5b006064d5cc86c",
   "metadata": {
    "collapsed": false,
    "ExecuteTime": {
     "end_time": "2024-01-24T13:35:11.148145300Z",
     "start_time": "2024-01-24T13:35:11.122079800Z"
    }
   },
   "outputs": [
    {
     "name": "stdout",
     "output_type": "stream",
     "text": [
      "D:\\Project\\Convert_Dataset\\fusiondata\\selected_imgs\n",
      "D:\\Project\\Convert_Dataset\\fusiondata\\labels\n",
      "D:\\Project\\Convert_Dataset\\fusiondata\\filter_ADSB\n"
     ]
    }
   ],
   "source": [
    "DATA_PATH = r'D:\\Project\\Convert_Dataset\\fusiondata'\n",
    "image_file = os.path.join(DATA_PATH, 'selected_imgs')\n",
    "label_file = os.path.join(DATA_PATH, 'labels')\n",
    "adsb_path = os.path.join(DATA_PATH, 'filter_ADSB')\n",
    "print(image_file)\n",
    "print(label_file)\n",
    "print(adsb_path)"
   ]
  },
  {
   "cell_type": "code",
   "execution_count": 66,
   "outputs": [
    {
     "name": "stdout",
     "output_type": "stream",
     "text": [
      "图片的子文件夹为：\n",
      " ['2022-07-01-14-31-27_2022-07-01-15-01-30_00.07.25.025-00.12.41.854', '2022-07-01-15-31-33_2022-07-01-16-01-36_00.05.59.014-00.14.35.556', '2022-07-01-19-01-54_2022-07-01-19-31-57_00.06.04.364-00.10.37.179', '2022-07-01-19-31-57_2022-07-01-20-02-00_00.13.00.307-00.17.33.231', '2022-07-03-13-36-09_2022-07-03-14-06-12_00.00.10.988-00.05.13.173', '2022-07-03-14-06-12_2022-07-03-14-36-15_00.16.27.290-00.21.36.848', '2022-07-03-19-36-45_2022-07-03-20-06-48_00.17.22.241-00.23.08.434', '2022-07-04-13-08-28_2022-07-04-13-38-31_00.02.00.857-00.04.47.495', '2022-07-04-14-08-34_2022-07-04-14-38-37_00.12.34.663-00.16.52.934', '2022-07-04-18-08-58_2022-07-04-18-39-01_00.26.09.773-00.30.02.400', '2022-07-04-19-39-07_2022-07-04-20-09-10_00.03.37.973-00.09.31.492', '2022-07-06-17-43-43_2022-07-06-18-13-46_00.03.26.982-00.08.12.729', '2022-07-06-18-13-46_2022-07-06-18-43-49_00.21.58.565-00.29.47.389', '2022-07-06-19-43-55_2022-07-06-20-13-58_00.01.00.446-00.07.01.292', '2022-07-08-12-48-01_2022-07-08-13-18-04_00.13.40.495-00.19.08.327', '2022-07-08-13-48-07_2022-07-08-14-18-10_00.19.10.261-00.24.41.785', '2022-07-08-18-18-34_2022-07-08-18-48-37_00.20.40.065-00.25.45.960', '2022-07-08-19-48-43_2022-07-08-20-18-46_00.02.13.714-00.10.00.799', '2022-07-10-15-23-04_2022-07-10-15-53-07_00.10.50.025-00.15.41.163', '2022-07-10-15-53-07_2022-07-10-16-23-10_00.26.40.912-00.30.02.400', '2022-07-10-19-23-28_2022-07-10-19-53-31_00.22.00.660-00.28.27.151', '2022-07-11-12-55-13_2022-07-11-13-25-16_00.01.33.381-00.06.11.696', '2022-07-11-13-55-19_2022-07-11-14-25-22_00.16.37.726-00.21.50.774', '2022-07-11-19-25-52_2022-07-11-19-55-55_00.20.29.907-00.26.30.753', '2022-07-13-20-00-43_2022-07-13-20-30-46_00.06.03.341-00.13.42.604']\n",
      "标签的子文件夹为：\n",
      " ['2022-07-01-14-31-27_2022-07-01-15-01-30-00.07.25.025-00.12.41.854', '2022-07-01-15-31-33_2022-07-01-16-01-36-00.05.59.014-00.14.35.556', '2022-07-01-19-01-54_2022-07-01-19-31-57-00.06.04.364-00.10.37.179', '2022-07-01-19-31-57_2022-07-01-20-02-00-00.13.00.307-00.17.33.231', '2022-07-03-13-36-09_2022-07-03-14-06-12-00.00.10.988-00.05.13.173', '2022-07-03-14-06-12_2022-07-03-14-36-15-00.16.27.290-00.21.36.848', '2022-07-03-19-36-45_2022-07-03-20-06-48-00.17.22.241-00.23.08.434', '2022-07-04-13-08-28_2022-07-04-13-38-31-00.02.00.857-00.04.47.495', '2022-07-04-14-08-34_2022-07-04-14-38-37-00.12.34.663-00.16.52.934', '2022-07-04-18-08-58_2022-07-04-18-39-01-00.26.09.773-00.30.02.400', '2022-07-04-19-39-07_2022-07-04-20-09-10-00.03.37.973-00.09.31.492', '2022-07-06-17-43-43_2022-07-06-18-13-46-00.03.26.982-00.08.12.729', '2022-07-06-18-13-46_2022-07-06-18-43-49-00.21.58.565-00.29.47.389', '2022-07-06-19-43-55_2022-07-06-20-13-58-00.01.00.446-00.07.01.292', '2022-07-08-12-48-01_2022-07-08-13-18-04-00.13.40.495-00.19.08.327', '2022-07-08-13-48-07_2022-07-08-14-18-10-00.19.10.261-00.24.41.785', '2022-07-08-18-18-34_2022-07-08-18-48-37-00.20.40.065-00.25.45.960', '2022-07-08-19-48-43_2022-07-08-20-18-46-00.02.13.714-00.10.00.799', '2022-07-10-15-23-04_2022-07-10-15-53-07-00.10.50.025-00.15.41.163', '2022-07-10-15-53-07_2022-07-10-16-23-10-00.26.40.912-00.30.02.400', '2022-07-10-19-23-28_2022-07-10-19-53-31-00.22.00.660-00.28.27.151', '2022-07-11-12-55-13_2022-07-11-13-25-16-00.01.33.381-00.06.11.696', '2022-07-11-13-55-19_2022-07-11-14-25-22-00.16.37.726-00.21.50.774', '2022-07-11-19-25-52_2022-07-11-19-55-55-00.20.29.907-00.26.30.753', '2022-07-13-20-00-43_2022-07-13-20-30-46-00.06.03.341-00.13.42.604']\n",
      "ADS-B的子文件夹为：\n",
      " ['filter_ADSB']\n"
     ]
    }
   ],
   "source": [
    "image_contents = os.listdir(image_file)\n",
    "label_contents = os.listdir(label_file)\n",
    "adsb_contents = os.listdir(adsb_path)\n",
    "print(\"图片的子文件夹为：\" + \"\\n\", image_contents)\n",
    "print(\"标签的子文件夹为：\" + \"\\n\", label_contents)\n",
    "print(\"ADS-B的子文件夹为：\" + \"\\n\", ['filter_ADSB'])"
   ],
   "metadata": {
    "collapsed": false,
    "ExecuteTime": {
     "end_time": "2024-01-24T13:35:11.170465800Z",
     "start_time": "2024-01-24T13:35:11.150144800Z"
    }
   },
   "id": "2643e8364af03823"
  },
  {
   "cell_type": "code",
   "outputs": [
    {
     "name": "stdout",
     "output_type": "stream",
     "text": [
      "图片的子文件夹个数为： 25\n",
      "标签的子文件夹个数为： 25\n",
      "标签的子文件夹个数为： 1\n"
     ]
    }
   ],
   "source": [
    "print(\"图片的子文件夹个数为：\", len(image_contents))\n",
    "print(\"标签的子文件夹个数为：\", len(label_contents))\n",
    "print(\"标签的子文件夹个数为：\", 1)"
   ],
   "metadata": {
    "collapsed": false,
    "ExecuteTime": {
     "end_time": "2024-01-24T13:35:11.204368Z",
     "start_time": "2024-01-24T13:35:11.171466300Z"
    }
   },
   "id": "d68dd0a24e0662bb",
   "execution_count": 67
  },
  {
   "cell_type": "markdown",
   "source": [
    "## 图片数目"
   ],
   "metadata": {
    "collapsed": false
   },
   "id": "e0cc6b47be188ef4"
  },
  {
   "cell_type": "code",
   "outputs": [
    {
     "name": "stdout",
     "output_type": "stream",
     "text": [
      "2022-07-01-14-31-27_2022-07-01-15-01-30_00.07.25.025-00.12.41.854 中有 317 张图片\n",
      "2022-07-01-15-31-33_2022-07-01-16-01-36_00.05.59.014-00.14.35.556 中有 517 张图片\n",
      "2022-07-01-19-01-54_2022-07-01-19-31-57_00.06.04.364-00.10.37.179 中有 274 张图片\n",
      "2022-07-01-19-31-57_2022-07-01-20-02-00_00.13.00.307-00.17.33.231 中有 273 张图片\n",
      "2022-07-03-13-36-09_2022-07-03-14-06-12_00.00.10.988-00.05.13.173 中有 303 张图片\n",
      "2022-07-03-14-06-12_2022-07-03-14-36-15_00.16.27.290-00.21.36.848 中有 310 张图片\n",
      "2022-07-03-19-36-45_2022-07-03-20-06-48_00.17.22.241-00.23.08.434 中有 346 张图片\n",
      "2022-07-04-13-08-28_2022-07-04-13-38-31_00.02.00.857-00.04.47.495 中有 167 张图片\n",
      "2022-07-04-14-08-34_2022-07-04-14-38-37_00.12.34.663-00.16.52.934 中有 259 张图片\n",
      "2022-07-04-18-08-58_2022-07-04-18-39-01_00.26.09.773-00.30.02.400 中有 232 张图片\n",
      "2022-07-04-19-39-07_2022-07-04-20-09-10_00.03.37.973-00.09.31.492 中有 355 张图片\n",
      "2022-07-06-17-43-43_2022-07-06-18-13-46_00.03.26.982-00.08.12.729 中有 286 张图片\n",
      "2022-07-06-18-13-46_2022-07-06-18-43-49_00.21.58.565-00.29.47.389 中有 470 张图片\n",
      "2022-07-06-19-43-55_2022-07-06-20-13-58_00.01.00.446-00.07.01.292 中有 361 张图片\n",
      "2022-07-08-12-48-01_2022-07-08-13-18-04_00.13.40.495-00.19.08.327 中有 330 张图片\n",
      "2022-07-08-13-48-07_2022-07-08-14-18-10_00.19.10.261-00.24.41.785 中有 332 张图片\n",
      "2022-07-08-18-18-34_2022-07-08-18-48-37_00.20.40.065-00.25.45.960 中有 307 张图片\n",
      "2022-07-08-19-48-43_2022-07-08-20-18-46_00.02.13.714-00.10.00.799 中有 468 张图片\n",
      "2022-07-10-15-23-04_2022-07-10-15-53-07_00.10.50.025-00.15.41.163 中有 293 张图片\n",
      "2022-07-10-15-53-07_2022-07-10-16-23-10_00.26.40.912-00.30.02.400 中有 201 张图片\n",
      "2022-07-10-19-23-28_2022-07-10-19-53-31_00.22.00.660-00.28.27.151 中有 387 张图片\n",
      "2022-07-11-12-55-13_2022-07-11-13-25-16_00.01.33.381-00.06.11.696 中有 278 张图片\n",
      "2022-07-11-13-55-19_2022-07-11-14-25-22_00.16.37.726-00.21.50.774 中有 313 张图片\n",
      "2022-07-11-19-25-52_2022-07-11-19-55-55_00.20.29.907-00.26.30.753 中有 362 张图片\n",
      "2022-07-13-20-00-43_2022-07-13-20-30-46_00.06.03.341-00.13.42.604 中有 460 张图片\n",
      "共有 8201 张图片\n"
     ]
    }
   ],
   "source": [
    "total_images = 0\n",
    "for folder in image_contents:\n",
    "    folder_path = os.path.join(image_file, folder)  # 子文件夹路径\n",
    "    num_images = len(os.listdir(folder_path))  # 统计子文件夹中的图片数量\n",
    "    print(f'{folder} 中有 {num_images} 张图片')  # 打印每个子文件夹中的图片数量\n",
    "    total_images += num_images  # 累加图片数量到总数\n",
    "\n",
    "print(f'共有 {total_images} 张图片')  # 打印所有子文件夹中的图片总数"
   ],
   "metadata": {
    "collapsed": false,
    "ExecuteTime": {
     "end_time": "2024-01-24T13:35:11.206581500Z",
     "start_time": "2024-01-24T13:35:11.185470600Z"
    }
   },
   "id": "24b8d8c699d04099",
   "execution_count": 68
  },
  {
   "cell_type": "markdown",
   "source": [
    "## label文件数目"
   ],
   "metadata": {
    "collapsed": false
   },
   "id": "52c6b825e922cc38"
  },
  {
   "cell_type": "code",
   "outputs": [
    {
     "name": "stdout",
     "output_type": "stream",
     "text": [
      "Folder 2022-07-01-14-31-27_2022-07-01-15-01-30-00.07.25.025-00.12.41.854 中有 317 个标签文件\n",
      "Folder 2022-07-01-15-31-33_2022-07-01-16-01-36-00.05.59.014-00.14.35.556 中有 517 个标签文件\n",
      "Folder 2022-07-01-19-01-54_2022-07-01-19-31-57-00.06.04.364-00.10.37.179 中有 274 个标签文件\n",
      "Folder 2022-07-01-19-31-57_2022-07-01-20-02-00-00.13.00.307-00.17.33.231 中有 273 个标签文件\n",
      "Folder 2022-07-03-13-36-09_2022-07-03-14-06-12-00.00.10.988-00.05.13.173 中有 303 个标签文件\n",
      "Folder 2022-07-03-14-06-12_2022-07-03-14-36-15-00.16.27.290-00.21.36.848 中有 310 个标签文件\n",
      "Folder 2022-07-03-19-36-45_2022-07-03-20-06-48-00.17.22.241-00.23.08.434 中有 346 个标签文件\n",
      "Folder 2022-07-04-13-08-28_2022-07-04-13-38-31-00.02.00.857-00.04.47.495 中有 167 个标签文件\n",
      "Folder 2022-07-04-14-08-34_2022-07-04-14-38-37-00.12.34.663-00.16.52.934 中有 259 个标签文件\n",
      "Folder 2022-07-04-18-08-58_2022-07-04-18-39-01-00.26.09.773-00.30.02.400 中有 232 个标签文件\n",
      "Folder 2022-07-04-19-39-07_2022-07-04-20-09-10-00.03.37.973-00.09.31.492 中有 355 个标签文件\n",
      "Folder 2022-07-06-17-43-43_2022-07-06-18-13-46-00.03.26.982-00.08.12.729 中有 286 个标签文件\n",
      "Folder 2022-07-06-18-13-46_2022-07-06-18-43-49-00.21.58.565-00.29.47.389 中有 470 个标签文件\n",
      "Folder 2022-07-06-19-43-55_2022-07-06-20-13-58-00.01.00.446-00.07.01.292 中有 361 个标签文件\n",
      "Folder 2022-07-08-12-48-01_2022-07-08-13-18-04-00.13.40.495-00.19.08.327 中有 330 个标签文件\n",
      "Folder 2022-07-08-13-48-07_2022-07-08-14-18-10-00.19.10.261-00.24.41.785 中有 332 个标签文件\n",
      "Folder 2022-07-08-18-18-34_2022-07-08-18-48-37-00.20.40.065-00.25.45.960 中有 307 个标签文件\n",
      "Folder 2022-07-08-19-48-43_2022-07-08-20-18-46-00.02.13.714-00.10.00.799 中有 468 个标签文件\n",
      "Folder 2022-07-10-15-23-04_2022-07-10-15-53-07-00.10.50.025-00.15.41.163 中有 293 个标签文件\n",
      "Folder 2022-07-10-15-53-07_2022-07-10-16-23-10-00.26.40.912-00.30.02.400 中有 201 个标签文件\n",
      "Folder 2022-07-10-19-23-28_2022-07-10-19-53-31-00.22.00.660-00.28.27.151 中有 387 个标签文件\n",
      "Folder 2022-07-11-12-55-13_2022-07-11-13-25-16-00.01.33.381-00.06.11.696 中有 278 个标签文件\n",
      "Folder 2022-07-11-13-55-19_2022-07-11-14-25-22-00.16.37.726-00.21.50.774 中有 313 个标签文件\n",
      "Folder 2022-07-11-19-25-52_2022-07-11-19-55-55-00.20.29.907-00.26.30.753 中有 362 个标签文件\n",
      "Folder 2022-07-13-20-00-43_2022-07-13-20-30-46-00.06.03.341-00.13.42.604 中有 460 个标签文件\n",
      "共有 8201 个标签文件\n"
     ]
    }
   ],
   "source": [
    "total_labels = 0\n",
    "for folder in label_contents:\n",
    "    folder_path = os.path.join(label_file, folder)  # 子文件夹路径\n",
    "    num_labels = len(os.listdir(folder_path))  # 统计子文件夹中的标签数量\n",
    "    print(f'Folder {folder} 中有 {num_labels} 个标签文件')  # 打印每个子文件夹中的标签数量\n",
    "    total_labels += num_labels  # 累加标签数量到总数\n",
    "\n",
    "print(f'共有 {total_labels} 个标签文件')  # 打印所有子文件夹中的图片总数"
   ],
   "metadata": {
    "collapsed": false,
    "ExecuteTime": {
     "end_time": "2024-01-24T13:35:11.240438200Z",
     "start_time": "2024-01-24T13:35:11.207581700Z"
    }
   },
   "id": "98932aaf714f7da8",
   "execution_count": 69
  },
  {
   "cell_type": "markdown",
   "source": [
    "## box数目"
   ],
   "metadata": {
    "collapsed": false
   },
   "id": "9e6d1560ce365ea"
  },
  {
   "cell_type": "code",
   "outputs": [
    {
     "name": "stdout",
     "output_type": "stream",
     "text": [
      "Folder 2022-07-01-14-31-27_2022-07-01-15-01-30-00.07.25.025-00.12.41.854 有 317 个boxes\n",
      "Folder 2022-07-01-15-31-33_2022-07-01-16-01-36-00.05.59.014-00.14.35.556 有 517 个boxes\n",
      "Folder 2022-07-01-19-01-54_2022-07-01-19-31-57-00.06.04.364-00.10.37.179 有 548 个boxes\n",
      "Folder 2022-07-01-19-31-57_2022-07-01-20-02-00-00.13.00.307-00.17.33.231 有 273 个boxes\n",
      "Folder 2022-07-03-13-36-09_2022-07-03-14-06-12-00.00.10.988-00.05.13.173 有 303 个boxes\n",
      "Folder 2022-07-03-14-06-12_2022-07-03-14-36-15-00.16.27.290-00.21.36.848 有 310 个boxes\n",
      "Folder 2022-07-03-19-36-45_2022-07-03-20-06-48-00.17.22.241-00.23.08.434 有 346 个boxes\n",
      "Folder 2022-07-04-13-08-28_2022-07-04-13-38-31-00.02.00.857-00.04.47.495 有 167 个boxes\n",
      "Folder 2022-07-04-14-08-34_2022-07-04-14-38-37-00.12.34.663-00.16.52.934 有 259 个boxes\n",
      "Folder 2022-07-04-18-08-58_2022-07-04-18-39-01-00.26.09.773-00.30.02.400 有 232 个boxes\n",
      "Folder 2022-07-04-19-39-07_2022-07-04-20-09-10-00.03.37.973-00.09.31.492 有 355 个boxes\n",
      "Folder 2022-07-06-17-43-43_2022-07-06-18-13-46-00.03.26.982-00.08.12.729 有 286 个boxes\n",
      "Folder 2022-07-06-18-13-46_2022-07-06-18-43-49-00.21.58.565-00.29.47.389 有 800 个boxes\n",
      "Folder 2022-07-06-19-43-55_2022-07-06-20-13-58-00.01.00.446-00.07.01.292 有 361 个boxes\n",
      "Folder 2022-07-08-12-48-01_2022-07-08-13-18-04-00.13.40.495-00.19.08.327 有 330 个boxes\n",
      "Folder 2022-07-08-13-48-07_2022-07-08-14-18-10-00.19.10.261-00.24.41.785 有 332 个boxes\n",
      "Folder 2022-07-08-18-18-34_2022-07-08-18-48-37-00.20.40.065-00.25.45.960 有 614 个boxes\n",
      "Folder 2022-07-08-19-48-43_2022-07-08-20-18-46-00.02.13.714-00.10.00.799 有 468 个boxes\n",
      "Folder 2022-07-10-15-23-04_2022-07-10-15-53-07-00.10.50.025-00.15.41.163 有 293 个boxes\n",
      "Folder 2022-07-10-15-53-07_2022-07-10-16-23-10-00.26.40.912-00.30.02.400 有 201 个boxes\n",
      "Folder 2022-07-10-19-23-28_2022-07-10-19-53-31-00.22.00.660-00.28.27.151 有 387 个boxes\n",
      "Folder 2022-07-11-12-55-13_2022-07-11-13-25-16-00.01.33.381-00.06.11.696 有 278 个boxes\n",
      "Folder 2022-07-11-13-55-19_2022-07-11-14-25-22-00.16.37.726-00.21.50.774 有 313 个boxes\n",
      "Folder 2022-07-11-19-25-52_2022-07-11-19-55-55-00.20.29.907-00.26.30.753 有 362 个boxes\n",
      "Folder 2022-07-13-20-00-43_2022-07-13-20-30-46-00.06.03.341-00.13.42.604 有 460 个boxes\n",
      "总共的 boxes数为: 9112\n"
     ]
    }
   ],
   "source": [
    "total_boxes = 0\n",
    "for folder in label_contents:\n",
    "    folder_path = os.path.join(label_file, folder)\n",
    "    box_count = 0\n",
    "    for file in os.listdir(folder_path):\n",
    "        if file.endswith(\".txt\"):\n",
    "            with open(os.path.join(folder_path, file), 'r') as f:\n",
    "                content = f.read()\n",
    "                lines = content.strip().split('\\n')\n",
    "                label_values = [[float(value) for value in line.split(',')] for line in lines]\n",
    "                box_count += len(label_values)\n",
    "                total_boxes += len(label_values)\n",
    "    print(f\"Folder {folder} 有 {box_count} 个boxes\")\n",
    "print(f\"总共的 boxes数为: {total_boxes}\")"
   ],
   "metadata": {
    "collapsed": false,
    "ExecuteTime": {
     "end_time": "2024-01-24T13:35:11.759647400Z",
     "start_time": "2024-01-24T13:35:11.233960Z"
    }
   },
   "id": "ce1d9949f23fa7c5",
   "execution_count": 70
  },
  {
   "cell_type": "markdown",
   "source": [
    "## ADS-B文件数目"
   ],
   "metadata": {
    "collapsed": false
   },
   "id": "ca631aa9ce7c7ead"
  },
  {
   "cell_type": "code",
   "outputs": [
    {
     "name": "stdout",
     "output_type": "stream",
     "text": [
      "Folder D:\\Project\\Convert_Dataset\\fusiondata\\filter_ADSB 中有 34 个ADS-B文件\n",
      "['20220701_1.txt', '20220701_2.txt', '20220701_3.txt', '20220701_4.txt', '20220703_1.txt', '20220703_2.txt', '20220703_3.txt', '20220703_4.txt', '20220704_1.txt', '20220704_2.txt', '20220704_3.txt', '20220704_4.txt', '20220706_1.txt', '20220706_2.txt', '20220706_3.txt', '20220706_4.txt', '20220708_1.txt', '20220708_2.txt', '20220708_3.txt', '20220708_4.txt', '20220710_1.txt', '20220710_2.txt', '20220710_4.txt', '20220711_1.txt', '20220711_2.txt', '20220711_4.txt', '20220713_2.txt', '20220715_1.txt', '20220715_2.txt', '20220718_4.txt', '20220719_2.txt', '20220720_2.txt', '20220724_4.txt', '20220729_2.txt']\n"
     ]
    }
   ],
   "source": [
    "total_adsb = 0\n",
    "box_count = 0\n",
    "num_labels = len(os.listdir(adsb_path))  # 统计子文件夹中的标签数量\n",
    "print(f'Folder {adsb_path} 中有 {num_labels} 个ADS-B文件')  # 打印每个子文件夹中的标签数量\n",
    "\n",
    "label_files = [file for file in os.listdir(adsb_path) if file.endswith(\".txt\")]\n",
    "print(label_files)"
   ],
   "metadata": {
    "collapsed": false,
    "ExecuteTime": {
     "end_time": "2024-01-24T13:35:11.783903900Z",
     "start_time": "2024-01-24T13:35:11.760647400Z"
    }
   },
   "id": "6d43a380c08cb55b",
   "execution_count": 71
  },
  {
   "cell_type": "code",
   "outputs": [],
   "source": [
    "with open(os.path.join(adsb_path, label_files[0]), 'r') as f:\n",
    "    content = f.read()\n",
    "    data = json.loads(content)\n",
    "    # print(data)"
   ],
   "metadata": {
    "collapsed": false,
    "ExecuteTime": {
     "end_time": "2024-01-24T13:35:11.793431200Z",
     "start_time": "2024-01-24T13:35:11.776399200Z"
    }
   },
   "id": "b1a77b6be86d2b48",
   "execution_count": 72
  },
  {
   "cell_type": "code",
   "outputs": [
    {
     "name": "stdout",
     "output_type": "stream",
     "text": [
      "The number of 20220701_1.txt entries is: 264\n"
     ]
    }
   ],
   "source": [
    "# 获取数据列表的长度\n",
    "num_data = len(data)\n",
    "print(f\"The number of 20220701_1.txt entries is: {num_data}\")"
   ],
   "metadata": {
    "collapsed": false,
    "ExecuteTime": {
     "end_time": "2024-01-24T13:35:11.819870800Z",
     "start_time": "2024-01-24T13:35:11.791431100Z"
    }
   },
   "id": "d7046429834b832d",
   "execution_count": 73
  },
  {
   "cell_type": "code",
   "outputs": [
    {
     "name": "stdout",
     "output_type": "stream",
     "text": [
      "20220701_1.txt: 264 entries\n",
      "20220701_2.txt: 438 entries\n",
      "20220701_3.txt: 164 entries\n",
      "20220701_4.txt: 284 entries\n",
      "20220703_1.txt: 177 entries\n",
      "20220703_2.txt: 271 entries\n",
      "20220703_3.txt: 3 entries\n",
      "20220703_4.txt: 364 entries\n",
      "20220704_1.txt: 44 entries\n",
      "20220704_2.txt: 227 entries\n",
      "20220704_3.txt: 101 entries\n",
      "20220704_4.txt: 269 entries\n",
      "20220706_1.txt: 159 entries\n",
      "20220706_2.txt: 346 entries\n",
      "20220706_3.txt: 144 entries\n",
      "20220706_4.txt: 270 entries\n",
      "20220708_1.txt: 87 entries\n",
      "20220708_2.txt: 224 entries\n",
      "20220708_3.txt: 16 entries\n",
      "20220708_4.txt: 333 entries\n",
      "20220710_1.txt: 53 entries\n",
      "20220710_2.txt: 217 entries\n",
      "20220710_4.txt: 320 entries\n",
      "20220711_1.txt: 83 entries\n",
      "20220711_2.txt: 249 entries\n",
      "20220711_4.txt: 257 entries\n",
      "20220713_2.txt: 122 entries\n",
      "20220715_1.txt: 1 entries\n",
      "20220715_2.txt: 118 entries\n",
      "20220718_4.txt: 83 entries\n",
      "20220719_2.txt: 79 entries\n",
      "20220720_2.txt: 71 entries\n",
      "20220724_4.txt: 52 entries\n",
      "20220729_2.txt: 83 entries\n",
      "Total data entries: 5973\n"
     ]
    }
   ],
   "source": [
    "total_adsb_count = 0\n",
    "# 遍历每个txt文件并输出数据数量\n",
    "for file in os.listdir(adsb_path):\n",
    "    if file.endswith(\".txt\"):\n",
    "        with open(os.path.join('fusiondata/filter_ADSB', file), 'r') as f:\n",
    "            content = f.read()\n",
    "            data = json.loads(content)\n",
    "            num_data = len(data)\n",
    "            total_adsb_count += num_data\n",
    "            print(f\"{file}: {num_data} entries\")\n",
    "\n",
    "print(f\"Total data entries: {total_adsb_count}\")"
   ],
   "metadata": {
    "collapsed": false,
    "ExecuteTime": {
     "end_time": "2024-01-24T13:35:11.843933400Z",
     "start_time": "2024-01-24T13:35:11.806257700Z"
    }
   },
   "id": "2742d9cec753d385",
   "execution_count": 74
  },
  {
   "cell_type": "code",
   "outputs": [
    {
     "name": "stdout",
     "output_type": "stream",
     "text": [
      "19:12:23.364000\n"
     ]
    }
   ],
   "source": [
    "import datetime\n",
    "\n",
    "# 假设TRP表示的是秒数\n",
    "trp_seconds = 40343.364\n",
    "trp_time = datetime.timedelta(seconds=trp_seconds)\n",
    "\n",
    "# 加上八小时\n",
    "trp_time += datetime.timedelta(hours=8)\n",
    "\n",
    "print(trp_time)"
   ],
   "metadata": {
    "collapsed": false,
    "ExecuteTime": {
     "end_time": "2024-01-24T13:35:11.854147500Z",
     "start_time": "2024-01-24T13:35:11.837428500Z"
    }
   },
   "id": "80eaede34c602ad8",
   "execution_count": 75
  },
  {
   "cell_type": "code",
   "outputs": [
    {
     "name": "stdout",
     "output_type": "stream",
     "text": [
      "14:38:57.609400\n"
     ]
    }
   ],
   "source": [
    "import datetime\n",
    "\n",
    "# 假设TRP表示的是秒数\n",
    "trp_seconds = 23937.6094\n",
    "trp_time = datetime.timedelta(seconds=trp_seconds)\n",
    "\n",
    "# 加上八小时\n",
    "trp_time += datetime.timedelta(hours=8)\n",
    "\n",
    "print(trp_time)"
   ],
   "metadata": {
    "collapsed": false,
    "ExecuteTime": {
     "end_time": "2024-01-24T13:35:11.884129600Z",
     "start_time": "2024-01-24T13:35:11.852943400Z"
    }
   },
   "id": "cde1495bf328de72",
   "execution_count": 76
  },
  {
   "cell_type": "code",
   "outputs": [
    {
     "name": "stdout",
     "output_type": "stream",
     "text": [
      "40078.364\n"
     ]
    }
   ],
   "source": [
    "file_time = '19:07:58.364000'\n",
    "file_time_datetime = datetime.datetime.strptime(file_time, \"%H:%M:%S.%f\")\n",
    "adjusted_time = file_time_datetime - datetime.timedelta(hours=8)\n",
    "trp_adjusted_time = (adjusted_time - datetime.datetime.combine(adjusted_time.date(), datetime.time.min)).total_seconds()\n",
    "print(trp_adjusted_time)"
   ],
   "metadata": {
    "collapsed": false,
    "ExecuteTime": {
     "end_time": "2024-01-24T13:35:11.885404500Z",
     "start_time": "2024-01-24T13:35:11.869412800Z"
    }
   },
   "id": "1b53fbda94b9c97e",
   "execution_count": 77
  },
  {
   "cell_type": "code",
   "outputs": [
    {
     "name": "stdout",
     "output_type": "stream",
     "text": [
      "14:06:22.988000\n"
     ]
    }
   ],
   "source": [
    "# 假设时间为：14:31:27，加上时间：00:07:25.025\n",
    "time1 = datetime.datetime.strptime(\"14:06:12\", \"%H:%M:%S\")\n",
    "time2 = datetime.timedelta(hours=0, minutes=0, seconds=10, milliseconds=988)\n",
    "\n",
    "result_time = time1 + time2\n",
    "print(result_time.strftime(\"%H:%M:%S.%f\"))"
   ],
   "metadata": {
    "collapsed": false,
    "ExecuteTime": {
     "end_time": "2024-01-24T13:35:11.917442700Z",
     "start_time": "2024-01-24T13:35:11.884129600Z"
    }
   },
   "id": "1991ec46a6c52d2d",
   "execution_count": 78
  },
  {
   "cell_type": "code",
   "outputs": [
    {
     "name": "stdout",
     "output_type": "stream",
     "text": [
      "{'2022-07-01-14-31-27_2022-07-01-15-01-30_00.07.25.025-00.12.41.854': ['20220701_1.txt', '20220701_2.txt', '20220701_3.txt', '20220701_4.txt'], '2022-07-01-15-31-33_2022-07-01-16-01-36_00.05.59.014-00.14.35.556': ['20220701_1.txt', '20220701_2.txt', '20220701_3.txt', '20220701_4.txt'], '2022-07-01-19-01-54_2022-07-01-19-31-57_00.06.04.364-00.10.37.179': ['20220701_1.txt', '20220701_2.txt', '20220701_3.txt', '20220701_4.txt'], '2022-07-01-19-31-57_2022-07-01-20-02-00_00.13.00.307-00.17.33.231': ['20220701_1.txt', '20220701_2.txt', '20220701_3.txt', '20220701_4.txt'], '2022-07-03-13-36-09_2022-07-03-14-06-12_00.00.10.988-00.05.13.173': ['20220703_1.txt', '20220703_2.txt', '20220703_3.txt', '20220703_4.txt'], '2022-07-03-14-06-12_2022-07-03-14-36-15_00.16.27.290-00.21.36.848': ['20220703_1.txt', '20220703_2.txt', '20220703_3.txt', '20220703_4.txt'], '2022-07-03-19-36-45_2022-07-03-20-06-48_00.17.22.241-00.23.08.434': ['20220703_1.txt', '20220703_2.txt', '20220703_3.txt', '20220703_4.txt'], '2022-07-04-13-08-28_2022-07-04-13-38-31_00.02.00.857-00.04.47.495': ['20220704_1.txt', '20220704_2.txt', '20220704_3.txt', '20220704_4.txt'], '2022-07-04-14-08-34_2022-07-04-14-38-37_00.12.34.663-00.16.52.934': ['20220704_1.txt', '20220704_2.txt', '20220704_3.txt', '20220704_4.txt'], '2022-07-04-18-08-58_2022-07-04-18-39-01_00.26.09.773-00.30.02.400': ['20220704_1.txt', '20220704_2.txt', '20220704_3.txt', '20220704_4.txt'], '2022-07-04-19-39-07_2022-07-04-20-09-10_00.03.37.973-00.09.31.492': ['20220704_1.txt', '20220704_2.txt', '20220704_3.txt', '20220704_4.txt'], '2022-07-06-17-43-43_2022-07-06-18-13-46_00.03.26.982-00.08.12.729': ['20220706_1.txt', '20220706_2.txt', '20220706_3.txt', '20220706_4.txt'], '2022-07-06-18-13-46_2022-07-06-18-43-49_00.21.58.565-00.29.47.389': ['20220706_1.txt', '20220706_2.txt', '20220706_3.txt', '20220706_4.txt'], '2022-07-06-19-43-55_2022-07-06-20-13-58_00.01.00.446-00.07.01.292': ['20220706_1.txt', '20220706_2.txt', '20220706_3.txt', '20220706_4.txt'], '2022-07-08-12-48-01_2022-07-08-13-18-04_00.13.40.495-00.19.08.327': ['20220708_1.txt', '20220708_2.txt', '20220708_3.txt', '20220708_4.txt'], '2022-07-08-13-48-07_2022-07-08-14-18-10_00.19.10.261-00.24.41.785': ['20220708_1.txt', '20220708_2.txt', '20220708_3.txt', '20220708_4.txt'], '2022-07-08-18-18-34_2022-07-08-18-48-37_00.20.40.065-00.25.45.960': ['20220708_1.txt', '20220708_2.txt', '20220708_3.txt', '20220708_4.txt'], '2022-07-08-19-48-43_2022-07-08-20-18-46_00.02.13.714-00.10.00.799': ['20220708_1.txt', '20220708_2.txt', '20220708_3.txt', '20220708_4.txt'], '2022-07-10-15-23-04_2022-07-10-15-53-07_00.10.50.025-00.15.41.163': ['20220710_1.txt', '20220710_2.txt', '20220710_4.txt'], '2022-07-10-15-53-07_2022-07-10-16-23-10_00.26.40.912-00.30.02.400': ['20220710_1.txt', '20220710_2.txt', '20220710_4.txt'], '2022-07-10-19-23-28_2022-07-10-19-53-31_00.22.00.660-00.28.27.151': ['20220710_1.txt', '20220710_2.txt', '20220710_4.txt'], '2022-07-11-12-55-13_2022-07-11-13-25-16_00.01.33.381-00.06.11.696': ['20220711_1.txt', '20220711_2.txt', '20220711_4.txt'], '2022-07-11-13-55-19_2022-07-11-14-25-22_00.16.37.726-00.21.50.774': ['20220711_1.txt', '20220711_2.txt', '20220711_4.txt'], '2022-07-11-19-25-52_2022-07-11-19-55-55_00.20.29.907-00.26.30.753': ['20220711_1.txt', '20220711_2.txt', '20220711_4.txt'], '2022-07-13-20-00-43_2022-07-13-20-30-46_00.06.03.341-00.13.42.604': ['20220713_2.txt']}\n"
     ]
    }
   ],
   "source": [
    "adsb_contents = ['20220701_1.txt', '20220701_2.txt', '20220701_3.txt', '20220701_4.txt',\n",
    "                 '20220703_1.txt', '20220703_2.txt', '20220703_3.txt', '20220703_4.txt',\n",
    "                 '20220704_1.txt', '20220704_2.txt', '20220704_3.txt', '20220704_4.txt',\n",
    "                 '20220706_1.txt', '20220706_2.txt', '20220706_3.txt', '20220706_4.txt',\n",
    "                 '20220708_1.txt', '20220708_2.txt', '20220708_3.txt', '20220708_4.txt',\n",
    "                 '20220710_1.txt', '20220710_2.txt', '20220710_4.txt', '20220711_1.txt',\n",
    "                 '20220711_2.txt', '20220711_4.txt', '20220713_2.txt', '20220715_1.txt',\n",
    "                 '20220715_2.txt', '20220718_4.txt', '20220719_2.txt', '20220720_2.txt',\n",
    "                 '20220724_4.txt', '20220729_2.txt']\n",
    "# Create a dictionary to map dates to corresponding file names\n",
    "date_file_mapping = {}\n",
    "\n",
    "for date in image_contents:\n",
    "    date_key = date[:10].replace('-', '')  # Extract the date part and remove hyphens\n",
    "    matching_files = [file for file in adsb_contents if date_key in file]\n",
    "    date_file_mapping[date] = matching_files\n",
    "\n",
    "print(date_file_mapping)"
   ],
   "metadata": {
    "collapsed": false,
    "ExecuteTime": {
     "end_time": "2024-01-24T13:35:11.918442600Z",
     "start_time": "2024-01-24T13:35:11.902090500Z"
    }
   },
   "id": "c1081151bb5e3088",
   "execution_count": 79
  },
  {
   "cell_type": "markdown",
   "source": [
    "## image和labels所有子文件夹的初始时间"
   ],
   "metadata": {
    "collapsed": false
   },
   "id": "671d925ed1eda2ae"
  },
  {
   "cell_type": "code",
   "outputs": [
    {
     "name": "stdout",
     "output_type": "stream",
     "text": [
      "00:07:25.025000\n",
      "00:05:59.014000\n",
      "00:06:04.364000\n",
      "00:13:00.307000\n",
      "00:00:10.988000\n",
      "00:16:27.290000\n",
      "00:17:22.241000\n",
      "00:02:00.857000\n",
      "00:12:34.663000\n",
      "00:26:09.773000\n",
      "00:03:37.973000\n",
      "00:03:26.982000\n",
      "00:21:58.565000\n",
      "00:01:00.446000\n",
      "00:13:40.495000\n",
      "00:19:10.261000\n",
      "00:20:40.065000\n",
      "00:02:13.714000\n",
      "00:10:50.025000\n",
      "00:26:40.912000\n",
      "00:22:00.660000\n",
      "00:01:33.381000\n",
      "00:16:37.726000\n",
      "00:20:29.907000\n",
      "00:06:03.341000\n",
      "25\n"
     ]
    }
   ],
   "source": [
    "num = 0\n",
    "time_list = []\n",
    "for folder_time in image_contents:\n",
    "    num += 1\n",
    "    time_part = folder_time.split('_')[0][-8:]\n",
    "    # print(time_part)\n",
    "    time_diff = folder_time.split('_')[2].split('-')[0]\n",
    "    # print(time_diff)\n",
    "    \n",
    "    time1 = datetime.datetime.strptime(time_part, \"%H-%M-%S\")\n",
    "    # print(time1.strftime(\"%H:%M:%S\"))\n",
    "    time2 = datetime.datetime.strptime(time_diff, \"%H.%M.%S.%f\")\n",
    "    print(time2.strftime(\"%H:%M:%S.%f\"))\n",
    "    time2_timedelta = datetime.timedelta(hours=time2.hour, minutes=time2.minute, seconds=time2.second, microseconds=time2.microsecond)\n",
    "    result_time = time1 + time2_timedelta\n",
    "    # print(result_time.strftime(\"%H:%M:%S.%f\"))\n",
    "    time_list.append(result_time.strftime(\"%H:%M:%S.%f\"))\n",
    "print(num)"
   ],
   "metadata": {
    "collapsed": false,
    "ExecuteTime": {
     "end_time": "2024-01-24T13:35:11.949482900Z",
     "start_time": "2024-01-24T13:35:11.916442600Z"
    }
   },
   "id": "58a1ac2912a79483",
   "execution_count": 80
  },
  {
   "cell_type": "code",
   "outputs": [
    {
     "name": "stdout",
     "output_type": "stream",
     "text": [
      "所有文件夹的初始时间为： ['14:38:52.025000', '15:37:32.014000', '19:07:58.364000', '19:44:57.307000', '13:36:19.988000', '14:22:39.290000', '19:54:07.241000', '13:10:28.857000', '14:21:08.663000', '18:35:07.773000', '19:42:44.973000', '17:47:09.982000', '18:35:44.565000', '19:44:55.446000', '13:01:41.495000', '14:07:17.261000', '18:39:14.065000', '19:50:56.714000', '15:33:54.025000', '16:19:47.912000', '19:45:28.660000', '12:56:46.381000', '14:11:56.726000', '19:46:21.907000', '20:06:46.341000']\n"
     ]
    }
   ],
   "source": [
    "print(\"所有文件夹的初始时间为：\", time_list)"
   ],
   "metadata": {
    "collapsed": false,
    "ExecuteTime": {
     "end_time": "2024-01-24T13:35:11.950483200Z",
     "start_time": "2024-01-24T13:35:11.929972800Z"
    }
   },
   "id": "7aaba32e60b5262c",
   "execution_count": 81
  },
  {
   "cell_type": "code",
   "outputs": [],
   "source": [
    "adsb_path = r'D:\\Project\\Convert_Dataset\\20220701_1.txt'\n",
    "with open(adsb_path, 'r') as f:\n",
    "    data = json.load(f)\n",
    "    del data[0]"
   ],
   "metadata": {
    "collapsed": false,
    "ExecuteTime": {
     "end_time": "2024-01-24T13:35:11.967160600Z",
     "start_time": "2024-01-24T13:35:11.946483400Z"
    }
   },
   "id": "caf3fd8e727a5d0b",
   "execution_count": 82
  },
  {
   "cell_type": "code",
   "outputs": [
    {
     "data": {
      "text/plain": "{'LATH': '46.8022620678',\n 'TRP': 23939.5703,\n 'LONH': '89.5168375969',\n 'GH': 3075.0,\n 'ADDR': '780CE8',\n 'CS': 'CSC6589',\n 'LON': 89.5168375969,\n 'LAT': 46.8022620678,\n 'LON_new': 0.01339495180000938,\n 'LAT_new': 0.0005042553000009775,\n 'TRP_new': 1.9608999999982188}"
     },
     "execution_count": 83,
     "metadata": {},
     "output_type": "execute_result"
    }
   ],
   "source": [
    "data[0]"
   ],
   "metadata": {
    "collapsed": false,
    "ExecuteTime": {
     "end_time": "2024-01-24T13:35:11.978620900Z",
     "start_time": "2024-01-24T13:35:11.962113800Z"
    }
   },
   "id": "834a0bcc56fc0dea",
   "execution_count": 83
  },
  {
   "cell_type": "code",
   "outputs": [
    {
     "name": "stdout",
     "output_type": "stream",
     "text": [
      "(1280, 6016, 3)\n"
     ]
    }
   ],
   "source": [
    "image = cv2.imread(\"fusiondata/selected_imgs/2022-07-01-14-31-27_2022-07-01-15-01-30_00.07.25.025-00.12.41.854/saved_00027.jpg\")\n",
    "print(image.shape)"
   ],
   "metadata": {
    "collapsed": false,
    "ExecuteTime": {
     "end_time": "2024-01-24T13:36:52.891632600Z",
     "start_time": "2024-01-24T13:36:52.835985700Z"
    }
   },
   "id": "307bfa5906cae217",
   "execution_count": 88
  },
  {
   "cell_type": "markdown",
   "source": [
    "##  显示图片和框"
   ],
   "metadata": {
    "collapsed": false
   },
   "id": "520542714a896196"
  },
  {
   "cell_type": "code",
   "execution_count": null,
   "id": "af88d1f30a9e221e",
   "metadata": {
    "collapsed": false,
    "ExecuteTime": {
     "start_time": "2024-01-24T13:35:11.991151900Z"
    }
   },
   "outputs": [],
   "source": [
    "# 读取标签文件\n",
    "a = 3 # 表示第几个文件夹\n",
    "label_num = 'saved_00100.txt'\n",
    "label_path = os.path.join(label_file, label_contents[a-1], label_num)\n",
    "\n",
    "with open(label_path, 'r') as file:\n",
    "    content = file.read()\n",
    "\n",
    "# 解析标签数据\n",
    "lines = content.strip().split('\\n')\n",
    "label_values = [[float(value) for value in line.split(',')] for line in lines]\n",
    "print(label_values)\n",
    "# print(label_values[0])\n",
    "# print(label_values[1])\n",
    "\n",
    "total_label = len(label_values)\n",
    "print(\"一个标签文件有{}个box\".format(total_label))\n",
    "\n",
    "for i in range(total_label):\n",
    "    print(f\"第{i+1}个box数据为：{label_values[i]}\")"
   ]
  },
  {
   "cell_type": "code",
   "outputs": [],
   "source": [
    "image_num = label_num.replace('.txt', '.jpg')\n",
    "image_path = os.path.join(image_file, image_contents[a-1], image_num)\n",
    "image = cv2.imread(image_path)\n",
    "image.shape"
   ],
   "metadata": {
    "collapsed": false,
    "ExecuteTime": {
     "start_time": "2024-01-24T13:35:11.993151600Z"
    }
   },
   "id": "ae1ac166cd52c6c3",
   "execution_count": null
  },
  {
   "cell_type": "code",
   "execution_count": null,
   "id": "7d43f8982165195",
   "metadata": {
    "collapsed": false,
    "ExecuteTime": {
     "start_time": "2024-01-24T13:35:11.994217400Z"
    }
   },
   "outputs": [],
   "source": [
    "# 提取标签框的位置坐标\n",
    "for i in range(total_label):\n",
    "    color = (random.randint(0, 255), random.randint(0, 255), random.randint(0, 255))\n",
    "    cv2.rectangle(image, (int(label_values[i][2]), int(label_values[i][3])),\n",
    "                          (int(label_values[i][4] + label_values[i][2]), int(label_values[i][5] + label_values[i][3])),\n",
    "                          color, 3, lineType=cv2.LINE_AA)\n",
    "\n",
    "# 在图像上绘制标签框\n",
    "# image_with_label = cv2.rectangle(image, ( x_max,y_max), (x_min, y_min), (255, 0, 0), 2)\n",
    "# image_with_label = cv2.circle(image, (0, 0), 10, (0, 0, 255), -1)\n",
    "# 将BGR格式转换为RGB格式\n",
    "# image_rgb = cv2.cvtColor(image_rgb, cv2.COLOR_BGR2RGB)\n",
    "\n",
    "# 显示带有标签框的图像\n",
    "cv2.namedWindow('Image with Label', cv2.WINDOW_NORMAL)\n",
    "cv2.imshow('Image with Label', image)\n",
    "cv2.waitKey(0)\n",
    "cv2.destroyAllWindows()"
   ]
  },
  {
   "cell_type": "code",
   "execution_count": null,
   "id": "2b63d27a81588a5",
   "metadata": {
    "collapsed": false,
    "ExecuteTime": {
     "start_time": "2024-01-24T13:35:11.995581Z"
    }
   },
   "outputs": [],
   "source": [
    "import cv2\n",
    "\n",
    "# 读取图像\n",
    "image = cv2.imread('data/selected_imgs_label/2022-07-01-14-31-27_2022-07-01-15-01-30_00.07.25.025-00.12.41.854/saved_00309.jpg')\n",
    "image_rgb = cv2.cvtColor(image, cv2.COLOR_BGR2RGB)\n",
    "\n",
    "# 目标检测框的坐标（假设这里的坐标是相对于原始图像大小的坐标）\n",
    "x, y, w, h = 3865.7665866790776, 597.1587420630174, 403.85296851903513, 225.28920662434598\n",
    "\n",
    "# 计算目标检测框的左上角和右下角坐标\n",
    "x1 = int(x)\n",
    "y1 = int(y)\n",
    "x2 = int(x + w)\n",
    "y2 = int(y + h)\n",
    "\n",
    "# 在图像上绘制目标检测框\n",
    "image_with_box = cv2.rectangle(image_rgb, (x1, y1), (x2, y2), (255, 0, 0), 2)\n",
    "\n",
    "# 显示带有标签框的图像\n",
    "# cv2.namedWindow('Image with Label', cv2.WINDOW_NORMAL)\n",
    "# cv2.imshow('Image with Label', image_rgb)\n",
    "# cv2.waitKey(0)\n",
    "# cv2.destroyAllWindows()"
   ]
  },
  {
   "cell_type": "code",
   "execution_count": null,
   "id": "3a2bd51c7abb33ca",
   "metadata": {
    "collapsed": false,
    "ExecuteTime": {
     "start_time": "2024-01-24T13:35:11.996581Z"
    }
   },
   "outputs": [],
   "source": [
    "# 将浮点数坐标转换为整数\n",
    "x1, y1 = int(3865.7665866790776), int(597.1587420630174)\n",
    "x2, y2 = int(403.85296851903513), int(225.28920662434598)\n",
    "\n",
    "# 画出两个点\n",
    "image_with_points = cv2.circle(image_rgb, (x1, y1), 5, (0, 0, 255), -1)  # 红色\n",
    "# image_with_points = cv2.circle(image_with_points, (x2, y2), 5, (0, 255, 0), -1)  # 绿色\n",
    "\n",
    "# 显示带有点的图像\n",
    "# cv2.namedWindow('Image with Points', cv2.WINDOW_NORMAL)\n",
    "# cv2.imshow('Image with Points', image_with_points)\n",
    "# cv2.waitKey(0)\n",
    "# cv2.destroyAllWindows()\n",
    "# plt.imshow(image_with_points)\n",
    "# plt.axis('off')  # 关闭坐标轴\n",
    "# plt.show()"
   ]
  },
  {
   "metadata": {
    "ExecuteTime": {
     "end_time": "2024-04-23T01:33:13.193221Z",
     "start_time": "2024-04-23T01:33:13.183739Z"
    }
   },
   "cell_type": "code",
   "source": [
    "adsb_contents = ['20220701_1.txt', '20220701_2.txt', '20220701_3.txt', '20220701_4.txt',\n",
    "                     '20220703_1.txt', '20220703_2.txt', '20220703_4.txt',\n",
    "                     '20220704_1.txt', '20220704_2.txt', '20220704_3.txt', '20220704_4.txt',\n",
    "                     '20220706_1.txt', '20220706_2.txt', '20220706_3.txt', '20220706_4.txt',\n",
    "                     '20220708_1.txt', '20220708_2.txt', '20220708_4.txt',\n",
    "                     '20220710_1.txt', '20220710_2.txt', '20220710_4.txt',\n",
    "                     '20220711_1.txt', '20220711_2.txt', '20220711_4.txt',\n",
    "                     '20220713_2.txt',\n",
    "                     '20220715_2.txt',\n",
    "                     '20220718_4.txt',\n",
    "                     '20220719_2.txt',\n",
    "                     '20220720_2.txt',\n",
    "                     '20220724_4.txt']\n",
    "takeoff = [0, 2, 4, 10, 12, 14, 16, 20, 23]\n",
    "total_indexes = set(range(len(adsb_contents)))\n",
    "landing = list(total_indexes - set(takeoff))\n"
   ],
   "id": "8c1f2b650ccd4b0",
   "outputs": [],
   "execution_count": 2
  },
  {
   "metadata": {
    "ExecuteTime": {
     "end_time": "2024-04-23T01:33:17.796819Z",
     "start_time": "2024-04-23T01:33:17.781817Z"
    }
   },
   "cell_type": "code",
   "source": "landing",
   "id": "bbab01e3ab4ecb84",
   "outputs": [
    {
     "data": {
      "text/plain": [
       "[1, 3, 5, 6, 7, 8, 9, 11, 13, 15, 17, 18, 19, 21, 22, 24, 25, 26, 27, 28, 29]"
      ]
     },
     "execution_count": 3,
     "metadata": {},
     "output_type": "execute_result"
    }
   ],
   "execution_count": 3
  },
  {
   "metadata": {
    "ExecuteTime": {
     "end_time": "2024-04-23T01:34:48.517968Z",
     "start_time": "2024-04-23T01:34:48.513982Z"
    }
   },
   "cell_type": "code",
   "source": [
    "takeoff = [0, 2, 4, 10, 12, 14, 16, 20, 23]\n",
    "landing = [1, 3, 5, 6, 7, 8, 9, 11, 13, 15, 17, 18, 19, 21, 22, 24, 25, 26, 27, 28, 29]\n",
    "len(takeoff + landing)"
   ],
   "id": "182617dd9bd119f2",
   "outputs": [
    {
     "data": {
      "text/plain": [
       "30"
      ]
     },
     "execution_count": 5,
     "metadata": {},
     "output_type": "execute_result"
    }
   ],
   "execution_count": 5
  },
  {
   "metadata": {
    "ExecuteTime": {
     "end_time": "2024-04-23T01:34:56.779452Z",
     "start_time": "2024-04-23T01:34:56.768696Z"
    }
   },
   "cell_type": "code",
   "source": "len(adsb_contents)",
   "id": "3516a1970d609f39",
   "outputs": [
    {
     "data": {
      "text/plain": [
       "30"
      ]
     },
     "execution_count": 6,
     "metadata": {},
     "output_type": "execute_result"
    }
   ],
   "execution_count": 6
  },
  {
   "metadata": {},
   "cell_type": "code",
   "outputs": [],
   "execution_count": null,
   "source": "",
   "id": "68c356ae99ced2a5"
  }
 ],
 "metadata": {
  "kernelspec": {
   "display_name": "Python 3 (ipykernel)",
   "language": "python",
   "name": "python3"
  },
  "language_info": {
   "codemirror_mode": {
    "name": "ipython",
    "version": 3
   },
   "file_extension": ".py",
   "mimetype": "text/x-python",
   "name": "python",
   "nbconvert_exporter": "python",
   "pygments_lexer": "ipython3",
   "version": "3.8.18"
  }
 },
 "nbformat": 4,
 "nbformat_minor": 5
}
