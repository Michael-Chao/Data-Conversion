{
 "cells": [
  {
   "metadata": {},
   "cell_type": "markdown",
   "source": "## 数据文件夹",
   "id": "9583dd6fd0edaf90"
  },
  {
   "metadata": {},
   "cell_type": "code",
   "outputs": [
    {
     "name": "stdout",
     "output_type": "stream",
     "text": [
      "['20220701_1', '20220701_2', '20220701_3', '20220701_4', '20220703_1', '20220703_2', '20220703_4', '20220704_1', '20220704_2', '20220704_3', '20220704_4', '20220706_1', '20220706_2', '20220706_3', '20220706_4', '20220708_1', '20220708_2', '20220708_4', '20220710_1', '20220710_2', '20220710_4', '20220711_1', '20220711_2', '20220711_4', '20220713_2', '20220715_2', '20220718_4', '20220719_2', '20220720_2', '20220724_4']\n"
     ]
    }
   ],
   "execution_count": 24,
   "source": [
    "adsb_contents = ['20220701_1.txt', '20220701_2.txt', '20220701_3.txt', '20220701_4.txt',\n",
    "                 '20220703_1.txt', '20220703_2.txt', '20220703_4.txt',\n",
    "                 '20220704_1.txt', '20220704_2.txt', '20220704_3.txt', '20220704_4.txt',\n",
    "                 '20220706_1.txt', '20220706_2.txt', '20220706_3.txt', '20220706_4.txt',\n",
    "                 '20220708_1.txt', '20220708_2.txt', '20220708_4.txt',\n",
    "                 '20220710_1.txt', '20220710_2.txt', '20220710_4.txt',\n",
    "                 '20220711_1.txt', '20220711_2.txt', '20220711_4.txt',\n",
    "                 '20220713_2.txt',\n",
    "                 '20220715_2.txt',\n",
    "                 '20220718_4.txt',\n",
    "                 '20220719_2.txt',\n",
    "                 '20220720_2.txt',\n",
    "                 '20220724_4.txt']\n",
    "\n",
    "adsb_contents_without_extension = [file_name.split('.')[0] for file_name in adsb_contents]\n",
    "print(adsb_contents_without_extension)"
   ],
   "id": "66768ad21ade9d2a"
  },
  {
   "metadata": {},
   "cell_type": "markdown",
   "source": "## adsb_cut每个文件的点数目",
   "id": "4d527586f1de998f"
  },
  {
   "metadata": {},
   "cell_type": "code",
   "outputs": [
    {
     "name": "stdout",
     "output_type": "stream",
     "text": [
      "Checking folder: 20220701_1\n",
      "File: 1.txt contains 182 data points.\n",
      "File: 2.txt contains 82 data points.\n",
      "\n",
      "\n",
      "Checking folder: 20220701_2\n",
      "File: 1.txt contains 163 data points.\n",
      "File: 2.txt contains 237 data points.\n",
      "File: 3.txt contains 1 data points.\n",
      "File: 4.txt contains 1 data points.\n",
      "File: 5.txt contains 36 data points.\n",
      "\n",
      "\n",
      "Checking folder: 20220701_3\n",
      "File: 1.txt contains 139 data points.\n",
      "File: 2.txt contains 25 data points.\n",
      "\n",
      "\n",
      "Checking folder: 20220701_4\n",
      "File: 1.txt contains 59 data points.\n",
      "File: 2.txt contains 225 data points.\n",
      "\n",
      "\n",
      "Checking folder: 20220703_1\n",
      "File: 1.txt contains 177 data points.\n",
      "\n",
      "\n",
      "Checking folder: 20220703_2\n",
      "File: 1.txt contains 83 data points.\n",
      "File: 2.txt contains 188 data points.\n",
      "\n",
      "\n",
      "Checking folder: 20220703_4\n",
      "File: 1.txt contains 364 data points.\n",
      "\n",
      "\n",
      "Checking folder: 20220704_1\n",
      "File: 1.txt contains 44 data points.\n",
      "\n",
      "\n",
      "Checking folder: 20220704_2\n",
      "File: 1.txt contains 227 data points.\n",
      "\n",
      "\n",
      "Checking folder: 20220704_3\n",
      "File: 1.txt contains 101 data points.\n",
      "\n",
      "\n",
      "Checking folder: 20220704_4\n",
      "File: 1.txt contains 192 data points.\n",
      "File: 2.txt contains 2 data points.\n",
      "File: 3.txt contains 75 data points.\n",
      "\n",
      "\n",
      "Checking folder: 20220706_1\n",
      "File: 1.txt contains 60 data points.\n",
      "File: 2.txt contains 2 data points.\n",
      "File: 3.txt contains 97 data points.\n",
      "\n",
      "\n",
      "Checking folder: 20220706_2\n",
      "File: 1.txt contains 346 data points.\n",
      "\n",
      "\n",
      "Checking folder: 20220706_3\n",
      "File: 1.txt contains 127 data points.\n",
      "File: 2.txt contains 17 data points.\n",
      "\n",
      "\n",
      "Checking folder: 20220706_4\n",
      "File: 1.txt contains 270 data points.\n",
      "\n",
      "\n",
      "Checking folder: 20220708_1\n",
      "File: 1.txt contains 1 data points.\n",
      "File: 2.txt contains 74 data points.\n",
      "File: 3.txt contains 12 data points.\n",
      "\n",
      "\n",
      "Checking folder: 20220708_2\n",
      "File: 1.txt contains 224 data points.\n",
      "\n",
      "\n",
      "Checking folder: 20220708_4\n",
      "File: 1.txt contains 15 data points.\n",
      "File: 2.txt contains 318 data points.\n",
      "\n",
      "\n",
      "Checking folder: 20220710_1\n",
      "File: 1.txt contains 53 data points.\n",
      "\n",
      "\n",
      "Checking folder: 20220710_2\n",
      "File: 1.txt contains 217 data points.\n",
      "\n",
      "\n",
      "Checking folder: 20220710_4\n",
      "File: 1.txt contains 320 data points.\n",
      "\n",
      "\n",
      "Checking folder: 20220711_1\n",
      "File: 1.txt contains 83 data points.\n",
      "\n",
      "\n",
      "Checking folder: 20220711_2\n",
      "File: 1.txt contains 249 data points.\n",
      "\n",
      "\n",
      "Checking folder: 20220711_4\n",
      "File: 1.txt contains 257 data points.\n",
      "\n",
      "\n",
      "Checking folder: 20220713_2\n",
      "File: 1.txt contains 122 data points.\n",
      "\n",
      "\n",
      "Checking folder: 20220715_2\n",
      "File: 1.txt contains 118 data points.\n",
      "\n",
      "\n",
      "Checking folder: 20220718_4\n",
      "File: 1.txt contains 83 data points.\n",
      "\n",
      "\n",
      "Checking folder: 20220719_2\n",
      "File: 1.txt contains 79 data points.\n",
      "\n",
      "\n",
      "Checking folder: 20220720_2\n",
      "File: 1.txt contains 1 data points.\n",
      "File: 2.txt contains 70 data points.\n",
      "\n",
      "\n",
      "Checking folder: 20220724_4\n",
      "File: 1.txt contains 52 data points.\n",
      "\n",
      "\n"
     ]
    }
   ],
   "execution_count": 1,
   "source": [
    "import os\n",
    "import json\n",
    "\n",
    "# 输入目录路径\n",
    "input_dir = r'D:\\Project\\Convert_Dataset\\interpolated_sampled_ADSB\\adsb_cut'\n",
    "\n",
    "# 遍历输入目录中的所有文件夹\n",
    "for folder_name in os.listdir(input_dir):\n",
    "    folder_path = os.path.join(input_dir, folder_name)\n",
    "    if os.path.isdir(folder_path):\n",
    "        print(f\"Checking folder: {folder_name}\")  # 打印当前文件夹名称\n",
    "        # 遍历文件夹中的所有.txt文件\n",
    "        for file_name in os.listdir(folder_path):\n",
    "            if file_name.endswith('.txt'):\n",
    "                file_path = os.path.join(folder_path, file_name)\n",
    "                # 读取文件内容\n",
    "                with open(file_path, 'r', encoding='utf-8') as file:\n",
    "                    json_data = file.read()\n",
    "                    try:\n",
    "                        # 将字符串转换为JSON对象\n",
    "                        data = json.loads(json_data)\n",
    "                        # 检查data是否为列表\n",
    "                        if isinstance(data, list):\n",
    "                            # 计算列表中的元素数量\n",
    "                            data_count = len(data)\n",
    "                            print(f\"File: {file_name} contains {data_count} data points.\")\n",
    "                        else:\n",
    "                            print(f\"File: {file_name} does not contain a list of data points.\")\n",
    "                    except json.JSONDecodeError as e:\n",
    "                        print(f\"Error decoding JSON from file {file_name}: {e}\")\n",
    "        print('\\n')"
   ],
   "id": "initial_id"
  },
  {
   "metadata": {},
   "cell_type": "markdown",
   "source": "## 拟合采样resampled_ADSBcut里面的数据个数",
   "id": "e7b7565972e9cab6"
  },
  {
   "metadata": {
    "ExecuteTime": {
     "end_time": "2024-04-22T12:23:20.574021Z",
     "start_time": "2024-04-22T12:23:20.542607Z"
    }
   },
   "cell_type": "code",
   "source": [
    "import os\n",
    "\n",
    "# 指定文件夹路径\n",
    "folder_path = r'D:\\Project\\Convert_Dataset\\interpolated_sampled_ADSB\\resampled_ADSBcut'\n",
    "\n",
    "# 遍历文件夹中的所有文件夹\n",
    "for root, dirs, files in os.walk(folder_path):\n",
    "    for dir in dirs:\n",
    "        # 打印文件夹名\n",
    "        print(f'检查文件夹: {dir}')\n",
    "        # 获取文件夹内的.txt文件路径\n",
    "        subdir_path = os.path.join(root, dir)\n",
    "        # 遍历文件夹中的.txt文件\n",
    "        for file in os.listdir(subdir_path):\n",
    "            if file.endswith('.txt'):\n",
    "                file_path = os.path.join(subdir_path, file)\n",
    "                # 打开文件并逐行读取\n",
    "                with open(file_path, 'r') as f:\n",
    "                    lines = f.readlines()\n",
    "                # 统计数据行数\n",
    "                num_data = len(lines)\n",
    "                # 打印文件名和数据行数\n",
    "                print(f'{file}: {num_data} 个数据')\n",
    "        print('\\n')\n"
   ],
   "id": "7c155c29a1a06f4d",
   "outputs": [
    {
     "name": "stdout",
     "output_type": "stream",
     "text": [
      "检查文件夹: 20220701_1\n",
      "1.txt: 162 个数据\n",
      "2.txt: 121 个数据\n",
      "\n",
      "\n",
      "检查文件夹: 20220701_2\n",
      "1.txt: 163 个数据\n",
      "2.txt: 192 个数据\n",
      "3.txt: 60 个数据\n",
      "\n",
      "\n",
      "检查文件夹: 20220701_3\n",
      "1.txt: 140 个数据\n",
      "2.txt: 38 个数据\n",
      "\n",
      "\n",
      "检查文件夹: 20220701_4\n",
      "1.txt: 63 个数据\n",
      "2.txt: 161 个数据\n",
      "\n",
      "\n",
      "检查文件夹: 20220703_1\n",
      "1.txt: 244 个数据\n",
      "\n",
      "\n",
      "检查文件夹: 20220703_2\n",
      "1.txt: 85 个数据\n",
      "2.txt: 170 个数据\n",
      "\n",
      "\n",
      "检查文件夹: 20220703_4\n",
      "1.txt: 292 个数据\n",
      "\n",
      "\n",
      "检查文件夹: 20220704_1\n",
      "1.txt: 95 个数据\n",
      "\n",
      "\n",
      "检查文件夹: 20220704_2\n",
      "1.txt: 202 个数据\n",
      "\n",
      "\n",
      "检查文件夹: 20220704_3\n",
      "1.txt: 101 个数据\n",
      "\n",
      "\n",
      "检查文件夹: 20220704_4\n",
      "1.txt: 169 个数据\n",
      "2.txt: 5 个数据\n",
      "3.txt: 57 个数据\n",
      "\n",
      "\n",
      "检查文件夹: 20220706_1\n",
      "1.txt: 49 个数据\n",
      "2.txt: 1 个数据\n",
      "3.txt: 92 个数据\n",
      "\n",
      "\n",
      "检查文件夹: 20220706_2\n",
      "1.txt: 368 个数据\n",
      "\n",
      "\n",
      "检查文件夹: 20220706_3\n",
      "1.txt: 145 个数据\n",
      "2.txt: 26 个数据\n",
      "\n",
      "\n",
      "检查文件夹: 20220706_4\n",
      "1.txt: 259 个数据\n",
      "\n",
      "\n",
      "检查文件夹: 20220708_1\n",
      "1.txt: 96 个数据\n",
      "2.txt: 34 个数据\n",
      "\n",
      "\n",
      "检查文件夹: 20220708_2\n",
      "1.txt: 187 个数据\n",
      "\n",
      "\n",
      "检查文件夹: 20220708_4\n",
      "1.txt: 32 个数据\n",
      "2.txt: 272 个数据\n",
      "\n",
      "\n",
      "检查文件夹: 20220710_1\n",
      "1.txt: 88 个数据\n",
      "\n",
      "\n",
      "检查文件夹: 20220710_2\n",
      "1.txt: 343 个数据\n",
      "\n",
      "\n",
      "检查文件夹: 20220710_4\n",
      "1.txt: 198 个数据\n",
      "\n",
      "\n",
      "检查文件夹: 20220711_1\n",
      "1.txt: 79 个数据\n",
      "\n",
      "\n",
      "检查文件夹: 20220711_2\n",
      "1.txt: 165 个数据\n",
      "\n",
      "\n",
      "检查文件夹: 20220711_4\n",
      "1.txt: 154 个数据\n",
      "\n",
      "\n",
      "检查文件夹: 20220713_2\n",
      "1.txt: 205 个数据\n",
      "\n",
      "\n",
      "检查文件夹: 20220715_2\n",
      "1.txt: 229 个数据\n",
      "\n",
      "\n",
      "检查文件夹: 20220718_4\n",
      "1.txt: 96 个数据\n",
      "\n",
      "\n",
      "检查文件夹: 20220719_2\n",
      "1.txt: 60 个数据\n",
      "\n",
      "\n",
      "检查文件夹: 20220720_2\n",
      "1.txt: 70 个数据\n",
      "\n",
      "\n",
      "检查文件夹: 20220724_4\n",
      "1.txt: 42 个数据\n",
      "\n",
      "\n"
     ]
    }
   ],
   "execution_count": 2
  },
  {
   "metadata": {
    "ExecuteTime": {
     "end_time": "2024-04-22T12:23:29.620111Z",
     "start_time": "2024-04-22T12:23:29.350453Z"
    }
   },
   "cell_type": "code",
   "source": [
    "import json\n",
    "import matplotlib.pyplot as plt\n",
    "\n",
    "# 读取ADSB Cut文件的数据\n",
    "adsb_cut_data = []\n",
    "with open('D:/Project/Convert_Dataset/interpolated_sampled_ADSB/adsb_cut/20220719_2/1.txt', 'r') as f_adsb_cut:\n",
    "    data_list = json.load(f_adsb_cut)\n",
    "    for entry in data_list:\n",
    "        lon = float(entry['LON'])\n",
    "        lat = float(entry['LAT'])\n",
    "        adsb_cut_data.append((lon, lat))\n",
    "\n",
    "# 读取Resampled ADSB Cut文件的数据\n",
    "resampled_adsb_cut_data = []\n",
    "with open('D:/Project/Convert_Dataset/interpolated_sampled_ADSB/resampled_ADSBcut/20220719_2/1.txt', 'r') as f_resampled_adsb_cut:\n",
    "    for line in f_resampled_adsb_cut:\n",
    "        parts = line.strip().split(',')\n",
    "        lon = float(parts[1])\n",
    "        lat = float(parts[2])\n",
    "        resampled_adsb_cut_data.append((lon, lat))\n",
    "\n",
    "# 解析数据\n",
    "lons_adsb_cut, lats_adsb_cut = zip(*adsb_cut_data)\n",
    "lons_resampled_adsb_cut, lats_resampled_adsb_cut = zip(*resampled_adsb_cut_data)\n",
    "\n",
    "# 打印数据形状\n",
    "print(\"ADSB Cut 文件数据形状：\")\n",
    "print(\"经度（lons_adsb_cut）:\", len(lons_adsb_cut))\n",
    "print(\"纬度（lats_adsb_cut）:\", len(lats_adsb_cut))\n",
    "print()\n",
    "print(\"Resampled ADSB Cut 文件数据形状：\")\n",
    "print(\"经度（lons_resampled_adsb_cut）:\", len(lons_resampled_adsb_cut))\n",
    "print(\"纬度（lats_resampled_adsb_cut）:\", len(lats_resampled_adsb_cut))\n",
    "print()\n",
    "\n",
    "# 绘制ADSB Cut文件的经纬度坐标图\n",
    "plt.figure(figsize=(10, 6))\n",
    "plt.plot(lons_adsb_cut, lats_adsb_cut, marker='o', linestyle='-', color='b')\n",
    "plt.xlabel('Longitude')\n",
    "plt.ylabel('Latitude')\n",
    "plt.title('ADSB Cut')\n",
    "plt.grid(True)\n",
    "plt.show()\n",
    "\n",
    "# 绘制Resampled ADSB Cut文件的经纬度坐标图\n",
    "plt.figure(figsize=(10, 6))\n",
    "plt.plot(lons_resampled_adsb_cut, lats_resampled_adsb_cut, marker='o', linestyle='-', color='r')\n",
    "plt.xlabel('Longitude')\n",
    "plt.ylabel('Latitude')\n",
    "plt.title('Resampled ADSB Cut')\n",
    "plt.grid(True)\n",
    "plt.show()\n",
    "\n",
    "# 绘制ADSB Cut文件和Resampled ADSB Cut文件的对照图\n",
    "plt.figure(figsize=(10, 6))\n",
    "plt.plot(lons_adsb_cut, lats_adsb_cut, marker='o', linestyle='-', color='b', label='ADSB Cut')\n",
    "plt.plot(lons_resampled_adsb_cut, lats_resampled_adsb_cut, marker='o', linestyle='-', color='r', label='Resampled ADSB Cut')\n",
    "plt.xlabel('Longitude')\n",
    "plt.ylabel('Latitude')\n",
    "plt.title('Comparison of ADSB Cut and Resampled ADSB Cut')\n",
    "plt.legend()\n",
    "plt.grid(True)\n",
    "plt.show()\n"
   ],
   "id": "92bc88d97eb90767",
   "outputs": [
    {
     "name": "stdout",
     "output_type": "stream",
     "text": [
      "ADSB Cut 文件数据形状：\n",
      "经度（lons_adsb_cut）: 79\n",
      "纬度（lats_adsb_cut）: 79\n",
      "\n",
      "Resampled ADSB Cut 文件数据形状：\n",
      "经度（lons_resampled_adsb_cut）: 60\n",
      "纬度（lats_resampled_adsb_cut）: 60\n",
      "\n"
     ]
    },
    {
     "data": {
      "text/plain": [
       "<Figure size 1000x600 with 1 Axes>"
      ],
      "image/png": "[encoded data removed]"
     },
     "metadata": {},
     "output_type": "display_data"
    },
    {
     "data": {
      "text/plain": [
       "<Figure size 1000x600 with 1 Axes>"
      ],
      "image/png": "[encoded data removed]"
     },
     "metadata": {},
     "output_type": "display_data"
    },
    {
     "data": {
      "text/plain": [
       "<Figure size 1000x600 with 1 Axes>"
      ],
      "image/png": "[encoded data removed]"
     },
     "metadata": {},
     "output_type": "display_data"
    }
   ],
   "execution_count": 16
  },
  {
   "metadata": {
    "ExecuteTime": {
     "end_time": "2024-04-22T12:23:21.213066Z",
     "start_time": "2024-04-22T12:23:21.196542Z"
    }
   },
   "cell_type": "code",
   "source": "407*0.8",
   "id": "2b6680dc2d2e82d9",
   "outputs": [
    {
     "data": {
      "text/plain": [
       "325.6"
      ]
     },
     "execution_count": 4,
     "metadata": {},
     "output_type": "execute_result"
    }
   ],
   "execution_count": 4
  },
  {
   "metadata": {},
   "cell_type": "markdown",
   "source": "## lstm_adsb_data数据可视化",
   "id": "708b3e3017707f98"
  },
  {
   "metadata": {
    "ExecuteTime": {
     "end_time": "2024-04-23T12:13:51.167864Z",
     "start_time": "2024-04-23T12:13:51.149679Z"
    }
   },
   "cell_type": "code",
   "source": [
    "import numpy as np\n",
    "\n",
    "# 设置文件路径\n",
    "file_path = r'D:\\Project\\Convert_Dataset\\interpolated_sampled_ADSB\\lstm_adsb_data\\20220704_4\\2.npy'\n",
    "\n",
    "# 读取.npy文件中的数据\n",
    "data = np.load(file_path)\n",
    "# data_expanded = np.expand_dims(data, axis=2)\n",
    "\n",
    "# data_expanded.shape\n",
    "data.shape"
   ],
   "id": "1be0a8a74c10e568",
   "outputs": [
    {
     "data": {
      "text/plain": [
       "(0,)"
      ]
     },
     "execution_count": 20,
     "metadata": {},
     "output_type": "execute_result"
    }
   ],
   "execution_count": 20
  },
  {
   "metadata": {
    "ExecuteTime": {
     "end_time": "2024-04-23T12:02:00.341887Z",
     "start_time": "2024-04-23T12:02:00.329906Z"
    }
   },
   "cell_type": "code",
   "source": "data[0]",
   "id": "44254602cffb9cc3",
   "outputs": [
    {
     "data": {
      "text/plain": [
       "array([23952.61    ,    89.51081 ,    46.804623], dtype=float32)"
      ]
     },
     "execution_count": 12,
     "metadata": {},
     "output_type": "execute_result"
    }
   ],
   "execution_count": 12
  },
  {
   "metadata": {
    "ExecuteTime": {
     "end_time": "2024-04-23T12:02:05.496234Z",
     "start_time": "2024-04-23T12:02:05.480735Z"
    }
   },
   "cell_type": "code",
   "source": "407/15",
   "id": "b214670de55c318d",
   "outputs": [
    {
     "data": {
      "text/plain": [
       "27.133333333333333"
      ]
     },
     "execution_count": 13,
     "metadata": {},
     "output_type": "execute_result"
    }
   ],
   "execution_count": 13
  },
  {
   "metadata": {},
   "cell_type": "markdown",
   "source": "### 读取lstm_adsb_data里面所有.npy文件的shape和数目",
   "id": "87117ccb927a232f"
  },
  {
   "metadata": {
    "ExecuteTime": {
     "end_time": "2024-04-23T12:20:24.966696Z",
     "start_time": "2024-04-23T12:20:24.948432Z"
    }
   },
   "cell_type": "code",
   "source": [
    "import os\n",
    "import numpy as np\n",
    "\n",
    "# 指定.npy文件夹路径\n",
    "folder_path = r'D:\\Project\\Convert_Dataset\\interpolated_sampled_ADSB\\lstm_adsb_data'\n",
    "\n",
    "# 记录总数的变量\n",
    "total_data_count = 0\n",
    "\n",
    "# 遍历文件夹中的所有文件夹\n",
    "for root, dirs, files in os.walk(folder_path):\n",
    "    for dir in dirs:\n",
    "        # 获取.npy文件夹路径\n",
    "        subdir_path = os.path.join(root, dir)\n",
    "        print(f'文件夹名字：{dir}')\n",
    "        # 初始化文件夹内数据组的总数\n",
    "        folder_data_count = 0\n",
    "        # 遍历文件夹中的.npy文件\n",
    "        for file in os.listdir(subdir_path):\n",
    "            if file.endswith('.npy'):\n",
    "                file_path = os.path.join(subdir_path, file)\n",
    "                # 加载.npy文件并获取形状\n",
    "                data = np.load(file_path)\n",
    "                shape = data.shape\n",
    "                # 计算每个.npy文件中的数据组数量\n",
    "                data_count = shape[0]\n",
    "                # 打印文件名和形状\n",
    "                print(f'{file}: {shape}，数据组数量：{data_count}')\n",
    "                # 累加到文件夹内数据组的总数\n",
    "                folder_data_count += data_count\n",
    "        # 累加到总数中\n",
    "        total_data_count += folder_data_count\n",
    "        # 打印文件夹内数据组的总数\n",
    "        print(f'{dir}文件夹内数据组的总数：{folder_data_count}\\n')\n",
    "\n",
    "# 打印所有文件夹内数据组的总数\n",
    "print(f'所有文件夹内数据组的总数：{total_data_count}')\n"
   ],
   "id": "ad6e9b8a76444e39",
   "outputs": [
    {
     "name": "stdout",
     "output_type": "stream",
     "text": [
      "文件夹名字：20220701_1\n",
      "1.npy: (50, 15, 3)，数据组数量：50\n",
      "2.npy: (36, 15, 3)，数据组数量：36\n",
      "20220701_1文件夹内数据组的总数：86\n",
      "\n",
      "文件夹名字：20220701_2\n",
      "1.npy: (50, 15, 3)，数据组数量：50\n",
      "2.npy: (60, 15, 3)，数据组数量：60\n",
      "3.npy: (16, 15, 3)，数据组数量：16\n",
      "20220701_2文件夹内数据组的总数：126\n",
      "\n",
      "文件夹名字：20220701_3\n",
      "1.npy: (42, 15, 3)，数据组数量：42\n",
      "2.npy: (8, 15, 3)，数据组数量：8\n",
      "20220701_3文件夹内数据组的总数：50\n",
      "\n",
      "文件夹名字：20220701_4\n",
      "1.npy: (17, 15, 3)，数据组数量：17\n",
      "2.npy: (49, 15, 3)，数据组数量：49\n",
      "20220701_4文件夹内数据组的总数：66\n",
      "\n",
      "文件夹名字：20220703_1\n",
      "1.npy: (77, 15, 3)，数据组数量：77\n",
      "20220703_1文件夹内数据组的总数：77\n",
      "\n",
      "文件夹名字：20220703_2\n",
      "1.npy: (24, 15, 3)，数据组数量：24\n",
      "2.npy: (52, 15, 3)，数据组数量：52\n",
      "20220703_2文件夹内数据组的总数：76\n",
      "\n",
      "文件夹名字：20220703_4\n",
      "1.npy: (93, 15, 3)，数据组数量：93\n",
      "20220703_4文件夹内数据组的总数：93\n",
      "\n",
      "文件夹名字：20220704_1\n",
      "1.npy: (27, 15, 3)，数据组数量：27\n",
      "20220704_1文件夹内数据组的总数：27\n",
      "\n",
      "文件夹名字：20220704_2\n",
      "1.npy: (63, 15, 3)，数据组数量：63\n",
      "20220704_2文件夹内数据组的总数：63\n",
      "\n",
      "文件夹名字：20220704_3\n",
      "1.npy: (29, 15, 3)，数据组数量：29\n",
      "20220704_3文件夹内数据组的总数：29\n",
      "\n",
      "文件夹名字：20220704_4\n",
      "1.npy: (52, 15, 3)，数据组数量：52\n",
      "3.npy: (15, 15, 3)，数据组数量：15\n",
      "20220704_4文件夹内数据组的总数：67\n",
      "\n",
      "文件夹名字：20220706_1\n",
      "1.npy: (12, 15, 3)，数据组数量：12\n",
      "3.npy: (26, 15, 3)，数据组数量：26\n",
      "20220706_1文件夹内数据组的总数：38\n",
      "\n",
      "文件夹名字：20220706_2\n",
      "1.npy: (118, 15, 3)，数据组数量：118\n",
      "20220706_2文件夹内数据组的总数：118\n",
      "\n",
      "文件夹名字：20220706_3\n",
      "1.npy: (44, 15, 3)，数据组数量：44\n",
      "2.npy: (4, 15, 3)，数据组数量：4\n",
      "20220706_3文件夹内数据组的总数：48\n",
      "\n",
      "文件夹名字：20220706_4\n",
      "1.npy: (82, 15, 3)，数据组数量：82\n",
      "20220706_4文件夹内数据组的总数：82\n",
      "\n",
      "文件夹名字：20220708_1\n",
      "1.npy: (28, 15, 3)，数据组数量：28\n",
      "2.npy: (7, 15, 3)，数据组数量：7\n",
      "20220708_1文件夹内数据组的总数：35\n",
      "\n",
      "文件夹名字：20220708_2\n",
      "1.npy: (58, 15, 3)，数据组数量：58\n",
      "20220708_2文件夹内数据组的总数：58\n",
      "\n",
      "文件夹名字：20220708_4\n",
      "1.npy: (6, 15, 3)，数据组数量：6\n",
      "2.npy: (86, 15, 3)，数据组数量：86\n",
      "20220708_4文件夹内数据组的总数：92\n",
      "\n",
      "文件夹名字：20220710_1\n",
      "1.npy: (25, 15, 3)，数据组数量：25\n",
      "20220710_1文件夹内数据组的总数：25\n",
      "\n",
      "文件夹名字：20220710_2\n",
      "1.npy: (110, 15, 3)，数据组数量：110\n",
      "20220710_2文件夹内数据组的总数：110\n",
      "\n",
      "文件夹名字：20220710_4\n",
      "1.npy: (62, 15, 3)，数据组数量：62\n",
      "20220710_4文件夹内数据组的总数：62\n",
      "\n",
      "文件夹名字：20220711_1\n",
      "1.npy: (22, 15, 3)，数据组数量：22\n",
      "20220711_1文件夹内数据组的总数：22\n",
      "\n",
      "文件夹名字：20220711_2\n",
      "1.npy: (51, 15, 3)，数据组数量：51\n",
      "20220711_2文件夹内数据组的总数：51\n",
      "\n",
      "文件夹名字：20220711_4\n",
      "1.npy: (47, 15, 3)，数据组数量：47\n",
      "20220711_4文件夹内数据组的总数：47\n",
      "\n",
      "文件夹名字：20220713_2\n",
      "1.npy: (64, 15, 3)，数据组数量：64\n",
      "20220713_2文件夹内数据组的总数：64\n",
      "\n",
      "文件夹名字：20220715_2\n",
      "1.npy: (72, 15, 3)，数据组数量：72\n",
      "20220715_2文件夹内数据组的总数：72\n",
      "\n",
      "文件夹名字：20220718_4\n",
      "1.npy: (28, 15, 3)，数据组数量：28\n",
      "20220718_4文件夹内数据组的总数：28\n",
      "\n",
      "文件夹名字：20220719_2\n",
      "1.npy: (16, 15, 3)，数据组数量：16\n",
      "20220719_2文件夹内数据组的总数：16\n",
      "\n",
      "文件夹名字：20220720_2\n",
      "1.npy: (19, 15, 3)，数据组数量：19\n",
      "20220720_2文件夹内数据组的总数：19\n",
      "\n",
      "文件夹名字：20220724_4\n",
      "1.npy: (10, 15, 3)，数据组数量：10\n",
      "20220724_4文件夹内数据组的总数：10\n",
      "\n",
      "所有文件夹内数据组的总数：1757\n"
     ]
    }
   ],
   "execution_count": 21
  },
  {
   "metadata": {
    "ExecuteTime": {
     "end_time": "2024-04-23T12:01:30.180457Z",
     "start_time": "2024-04-23T12:01:30.161414Z"
    }
   },
   "cell_type": "code",
   "source": [
    "import os\n",
    "import numpy as np\n",
    "\n",
    "# 指定.npy文件夹路径\n",
    "folder_path = r'D:\\Project\\Convert_Dataset\\interpolated_sampled_ADSB\\lstm_adsb_data'\n",
    "\n",
    "# 记录总数的变量\n",
    "count = 0\n",
    "\n",
    "# 遍历文件夹中的所有文件夹\n",
    "for root, dirs, files in os.walk(folder_path):\n",
    "    for dir in dirs:\n",
    "        # 获取.npy文件夹路径\n",
    "        subdir_path = os.path.join(root, dir)\n",
    "        # 遍历文件夹中的.npy文件\n",
    "        for file in os.listdir(subdir_path):\n",
    "            if file.endswith('.npy'):\n",
    "                file_path = os.path.join(subdir_path, file)\n",
    "                # 加载.npy文件并获取形状\n",
    "                data = np.load(file_path)\n",
    "                # 判断形状是否为（15，3），是的话累加到总数中\n",
    "                if len(data.shape) == 3 and data.shape[1:] == (15, 3):\n",
    "                    count += 1\n",
    "\n",
    "# 打印总数\n",
    "print(f'形状为（15，3）的数组个数：{count}')\n"
   ],
   "id": "1e9e234b65193538",
   "outputs": [
    {
     "name": "stdout",
     "output_type": "stream",
     "text": [
      "形状为（15，3）的数组个数：41\n"
     ]
    }
   ],
   "execution_count": 9
  },
  {
   "metadata": {
    "ExecuteTime": {
     "end_time": "2024-04-23T12:01:34.716297Z",
     "start_time": "2024-04-23T12:01:34.700117Z"
    }
   },
   "cell_type": "code",
   "source": "162/15",
   "id": "d57b853b9e5172dc",
   "outputs": [
    {
     "data": {
      "text/plain": [
       "10.8"
      ]
     },
     "execution_count": 10,
     "metadata": {},
     "output_type": "execute_result"
    }
   ],
   "execution_count": 10
  },
  {
   "metadata": {},
   "cell_type": "markdown",
   "source": "## lstm_adsb_data连续性检查",
   "id": "bdb07c4ab73f1e7b"
  },
  {
   "metadata": {
    "ExecuteTime": {
     "end_time": "2024-04-23T12:21:04.180161Z",
     "start_time": "2024-04-23T12:21:04.158870Z"
    }
   },
   "cell_type": "code",
   "source": [
    "import os\n",
    "import numpy as np\n",
    "\n",
    "def check_time_continuity(data):\n",
    "    # 假设第一维是batch，第二维是时间步，第三维是特征\n",
    "    trp_times = data[:, 0, 0]  # 提取TRP时间\n",
    "    if not np.all(np.diff(trp_times) > 0):  # 检查时间戳是否连续递增\n",
    "        return False\n",
    "    return True\n",
    "\n",
    "def process_files(input_dir):\n",
    "    for folder_name in os.listdir(input_dir):\n",
    "        folder_path = os.path.join(input_dir, folder_name)\n",
    "        if os.path.isdir(folder_path):\n",
    "            print(f\"Checking folder: {folder_name}\")  # 打印正在检查的文件夹名称\n",
    "            for file_name in os.listdir(folder_path):\n",
    "                if file_name.endswith('.npy'):\n",
    "                    file_path = os.path.join(folder_path, file_name)\n",
    "                    data = np.load(file_path)\n",
    "                    if check_time_continuity(data):\n",
    "                        print(f\"Time continuity check passed for file: {file_name}\")\n",
    "                    else:\n",
    "                        print(f\"Check failed for file: {file_name}\")\n",
    "            print('\\n')\n",
    "\n",
    "input_dir = r'D:\\Project\\Convert_Dataset\\interpolated_sampled_ADSB\\lstm_adsb_data'\n",
    "process_files(input_dir)"
   ],
   "id": "bc878163aed3f5d4",
   "outputs": [
    {
     "name": "stdout",
     "output_type": "stream",
     "text": [
      "Checking folder: 20220701_1\n",
      "Time continuity check passed for file: 1.npy\n",
      "Time continuity check passed for file: 2.npy\n",
      "\n",
      "\n",
      "Checking folder: 20220701_2\n",
      "Time continuity check passed for file: 1.npy\n",
      "Time continuity check passed for file: 2.npy\n",
      "Time continuity check passed for file: 3.npy\n",
      "\n",
      "\n",
      "Checking folder: 20220701_3\n",
      "Time continuity check passed for file: 1.npy\n",
      "Time continuity check passed for file: 2.npy\n",
      "\n",
      "\n",
      "Checking folder: 20220701_4\n",
      "Time continuity check passed for file: 1.npy\n",
      "Time continuity check passed for file: 2.npy\n",
      "\n",
      "\n",
      "Checking folder: 20220703_1\n",
      "Time continuity check passed for file: 1.npy\n",
      "\n",
      "\n",
      "Checking folder: 20220703_2\n",
      "Time continuity check passed for file: 1.npy\n",
      "Time continuity check passed for file: 2.npy\n",
      "\n",
      "\n",
      "Checking folder: 20220703_4\n",
      "Time continuity check passed for file: 1.npy\n",
      "\n",
      "\n",
      "Checking folder: 20220704_1\n",
      "Time continuity check passed for file: 1.npy\n",
      "\n",
      "\n",
      "Checking folder: 20220704_2\n",
      "Time continuity check passed for file: 1.npy\n",
      "\n",
      "\n",
      "Checking folder: 20220704_3\n",
      "Time continuity check passed for file: 1.npy\n",
      "\n",
      "\n",
      "Checking folder: 20220704_4\n",
      "Time continuity check passed for file: 1.npy\n",
      "Time continuity check passed for file: 3.npy\n",
      "\n",
      "\n",
      "Checking folder: 20220706_1\n",
      "Time continuity check passed for file: 1.npy\n",
      "Time continuity check passed for file: 3.npy\n",
      "\n",
      "\n",
      "Checking folder: 20220706_2\n",
      "Time continuity check passed for file: 1.npy\n",
      "\n",
      "\n",
      "Checking folder: 20220706_3\n",
      "Time continuity check passed for file: 1.npy\n",
      "Time continuity check passed for file: 2.npy\n",
      "\n",
      "\n",
      "Checking folder: 20220706_4\n",
      "Time continuity check passed for file: 1.npy\n",
      "\n",
      "\n",
      "Checking folder: 20220708_1\n",
      "Time continuity check passed for file: 1.npy\n",
      "Time continuity check passed for file: 2.npy\n",
      "\n",
      "\n",
      "Checking folder: 20220708_2\n",
      "Time continuity check passed for file: 1.npy\n",
      "\n",
      "\n",
      "Checking folder: 20220708_4\n",
      "Time continuity check passed for file: 1.npy\n",
      "Time continuity check passed for file: 2.npy\n",
      "\n",
      "\n",
      "Checking folder: 20220710_1\n",
      "Time continuity check passed for file: 1.npy\n",
      "\n",
      "\n",
      "Checking folder: 20220710_2\n",
      "Time continuity check passed for file: 1.npy\n",
      "\n",
      "\n",
      "Checking folder: 20220710_4\n",
      "Time continuity check passed for file: 1.npy\n",
      "\n",
      "\n",
      "Checking folder: 20220711_1\n",
      "Time continuity check passed for file: 1.npy\n",
      "\n",
      "\n",
      "Checking folder: 20220711_2\n",
      "Time continuity check passed for file: 1.npy\n",
      "\n",
      "\n",
      "Checking folder: 20220711_4\n",
      "Time continuity check passed for file: 1.npy\n",
      "\n",
      "\n",
      "Checking folder: 20220713_2\n",
      "Time continuity check passed for file: 1.npy\n",
      "\n",
      "\n",
      "Checking folder: 20220715_2\n",
      "Time continuity check passed for file: 1.npy\n",
      "\n",
      "\n",
      "Checking folder: 20220718_4\n",
      "Time continuity check passed for file: 1.npy\n",
      "\n",
      "\n",
      "Checking folder: 20220719_2\n",
      "Time continuity check passed for file: 1.npy\n",
      "\n",
      "\n",
      "Checking folder: 20220720_2\n",
      "Time continuity check passed for file: 1.npy\n",
      "\n",
      "\n",
      "Checking folder: 20220724_4\n",
      "Time continuity check passed for file: 1.npy\n",
      "\n",
      "\n"
     ]
    }
   ],
   "execution_count": 22
  },
  {
   "metadata": {},
   "cell_type": "markdown",
   "source": "## 检查resampled_ADSBcut文件夹里面每个文件有多少个点",
   "id": "b8df729196b56fa1"
  },
  {
   "metadata": {
    "ExecuteTime": {
     "end_time": "2024-04-23T12:12:56.643664Z",
     "start_time": "2024-04-23T12:12:56.634160Z"
    }
   },
   "cell_type": "code",
   "source": [
    "import os\n",
    "\n",
    "# 输入目录路径\n",
    "input_dir = r'D:\\Project\\Convert_Dataset\\interpolated_sampled_ADSB\\resampled_ADSBcut'\n",
    "\n",
    "# 遍历输入目录中的所有文件\n",
    "for folder_name in os.listdir(input_dir):\n",
    "    folder_path = os.path.join(input_dir, folder_name)\n",
    "    if os.path.isdir(folder_path):\n",
    "        for file_name in os.listdir(folder_path):\n",
    "            if file_name.endswith('.txt'):\n",
    "                file_path = os.path.join(folder_path, file_name)\n",
    "                # 读取文件内容\n",
    "                with open(file_path, 'r') as f:\n",
    "                    lines = f.readlines()\n",
    "                    # 计算每个文件的数据数量\n",
    "                    data_count = len(lines)\n",
    "                    print(f\"File: {file_name} contains {data_count} data points.\")"
   ],
   "id": "232ed9f7467786d",
   "outputs": [
    {
     "name": "stdout",
     "output_type": "stream",
     "text": [
      "File: 1.txt contains 162 data points.\n",
      "File: 2.txt contains 121 data points.\n",
      "File: 1.txt contains 163 data points.\n",
      "File: 2.txt contains 192 data points.\n",
      "File: 3.txt contains 60 data points.\n",
      "File: 1.txt contains 140 data points.\n",
      "File: 2.txt contains 38 data points.\n",
      "File: 1.txt contains 63 data points.\n",
      "File: 2.txt contains 161 data points.\n",
      "File: 1.txt contains 244 data points.\n",
      "File: 1.txt contains 85 data points.\n",
      "File: 2.txt contains 170 data points.\n",
      "File: 1.txt contains 292 data points.\n",
      "File: 1.txt contains 95 data points.\n",
      "File: 1.txt contains 202 data points.\n",
      "File: 1.txt contains 101 data points.\n",
      "File: 1.txt contains 169 data points.\n",
      "File: 2.txt contains 5 data points.\n",
      "File: 3.txt contains 57 data points.\n",
      "File: 1.txt contains 49 data points.\n",
      "File: 2.txt contains 1 data points.\n",
      "File: 3.txt contains 92 data points.\n",
      "File: 1.txt contains 368 data points.\n",
      "File: 1.txt contains 145 data points.\n",
      "File: 2.txt contains 26 data points.\n",
      "File: 1.txt contains 259 data points.\n",
      "File: 1.txt contains 96 data points.\n",
      "File: 2.txt contains 34 data points.\n",
      "File: 1.txt contains 187 data points.\n",
      "File: 1.txt contains 32 data points.\n",
      "File: 2.txt contains 272 data points.\n",
      "File: 1.txt contains 88 data points.\n",
      "File: 1.txt contains 343 data points.\n",
      "File: 1.txt contains 198 data points.\n",
      "File: 1.txt contains 79 data points.\n",
      "File: 1.txt contains 165 data points.\n",
      "File: 1.txt contains 154 data points.\n",
      "File: 1.txt contains 205 data points.\n",
      "File: 1.txt contains 229 data points.\n",
      "File: 1.txt contains 96 data points.\n",
      "File: 1.txt contains 60 data points.\n",
      "File: 1.txt contains 70 data points.\n",
      "File: 1.txt contains 42 data points.\n"
     ]
    }
   ],
   "execution_count": 18
  },
  {
   "metadata": {
    "ExecuteTime": {
     "end_time": "2024-04-22T12:23:21.401662Z",
     "start_time": "2024-04-22T12:23:21.387510Z"
    }
   },
   "cell_type": "code",
   "source": [
    "import numpy as np\n",
    "\n",
    "A = np.random.rand(2, 5, 1, 3)\n",
    "A.shape"
   ],
   "id": "a2bbe7181240ec88",
   "outputs": [
    {
     "data": {
      "text/plain": [
       "(2, 5, 1, 3)"
      ]
     },
     "execution_count": 13,
     "metadata": {},
     "output_type": "execute_result"
    }
   ],
   "execution_count": 13
  },
  {
   "metadata": {
    "ExecuteTime": {
     "end_time": "2024-04-22T12:23:21.417295Z",
     "start_time": "2024-04-22T12:23:21.402666Z"
    }
   },
   "cell_type": "code",
   "source": [
    "B = A[:, :, :, :2]\n",
    "B.shape"
   ],
   "id": "c9cce2f433ede4f",
   "outputs": [
    {
     "data": {
      "text/plain": [
       "(2, 5, 1, 2)"
      ]
     },
     "execution_count": 14,
     "metadata": {},
     "output_type": "execute_result"
    }
   ],
   "execution_count": 14
  },
  {
   "metadata": {},
   "cell_type": "markdown",
   "source": "## train里面的数据",
   "id": "f5c031d1c1d91be3"
  },
  {
   "metadata": {
    "ExecuteTime": {
     "end_time": "2024-04-23T13:29:40.843140Z",
     "start_time": "2024-04-23T13:29:40.820582Z"
    }
   },
   "cell_type": "code",
   "source": [
    "import os\n",
    "\n",
    "# 定义根文件夹路径\n",
    "root_dir = r'D:\\Project\\Convert_Dataset\\interpolated_sampled_ADSB\\train'\n",
    "\n",
    "# 遍历根文件夹中的所有子文件夹\n",
    "for subdir in os.listdir(root_dir):\n",
    "    subdir_path = os.path.join(root_dir, subdir)\n",
    "    if os.path.isdir(subdir_path):  # 确保它是一个文件夹\n",
    "        # 初始化子文件夹的.npy文件计数器\n",
    "        npy_files_count = 0\n",
    "        # 遍历子文件夹中的文件\n",
    "        for file_name in os.listdir(subdir_path):\n",
    "            if file_name.endswith('.npy'):\n",
    "                npy_files_count += 1\n",
    "        # 打印每个子文件夹中的.npy文件数量\n",
    "        print(f\"文件夹 '{subdir_path}' 里有 {npy_files_count} 个数据文件。\")"
   ],
   "id": "4cee8dcfe3e098c0",
   "outputs": [
    {
     "name": "stdout",
     "output_type": "stream",
     "text": [
      "文件夹 'D:\\Project\\Convert_Dataset\\interpolated_sampled_ADSB\\train\\0' 里有 679 个数据文件。\n",
      "文件夹 'D:\\Project\\Convert_Dataset\\interpolated_sampled_ADSB\\train\\1' 里有 1196 个数据文件。\n"
     ]
    }
   ],
   "execution_count": 27
  },
  {
   "metadata": {},
   "cell_type": "code",
   "source": "",
   "id": "598199628246c1e9",
   "outputs": [],
   "execution_count": null
  }
 ],
 "metadata": {
  "kernelspec": {
   "display_name": "Python 3",
   "language": "python",
   "name": "python3"
  },
  "language_info": {
   "codemirror_mode": {
    "name": "ipython",
    "version": 2
   },
   "file_extension": ".py",
   "mimetype": "text/x-python",
   "name": "python",
   "nbconvert_exporter": "python",
   "pygments_lexer": "ipython2",
   "version": "2.7.6"
  }
 },
 "nbformat": 4,
 "nbformat_minor": 5
}
