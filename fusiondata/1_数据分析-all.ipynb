{
 "cells": [
  {
   "cell_type": "code",
   "id": "a072a27b1559e762",
   "metadata": {
    "ExecuteTime": {
     "end_time": "2024-04-08T13:49:54.470168Z",
     "start_time": "2024-04-08T13:49:54.443145Z"
    }
   },
   "source": [
    "import matplotlib.pyplot as plt"
   ],
   "outputs": [],
   "execution_count": 4
  },
  {
   "cell_type": "code",
   "id": "8d8126c386a26be2",
   "metadata": {
    "ExecuteTime": {
     "end_time": "2024-04-08T13:49:54.485368Z",
     "start_time": "2024-04-08T13:49:54.471670Z"
    }
   },
   "source": [
    "video2time = {'20220701_1.txt':'14_38_52,14_44_07',\n",
    "              '20220701_2.txt':'15_37_33,15_46_05',\n",
    "              '20220701_3.txt':'19_07_58,19_12_31',\n",
    "              '20220701_4.txt':'19_44_57,19_49_30',\n",
    "              '20220703_1.txt':'13_36_20,13_41_21',\n",
    "              '20220703_2.txt':'14_22_41,14_27_48',\n",
    "              '20220703_4.txt':'19_54_08,19_59_52',\n",
    "              '20220704_1.txt':'13_10_28,13_13_14',\n",
    "              '20220704_2.txt':'14_21_09,14_25_27',\n",
    "              '20220704_3.txt':'18_35_07,18_39_13',\n",
    "              '20220704_4.txt':'19_42_26,19_48_37',\n",
    "              '20220706_1.txt':'17_47_09,17_51_56',\n",
    "              '20220706_2.txt':'18_35_43,18_43_32',\n",
    "              '20220706_4.txt':'19_44_55,19_50_56',\n",
    "              '20220708_1.txt':'13_01_42,13_07_09',\n",
    "              '20220708_2.txt':'14_07_17,14_12_47',\n",
    "              '20220708_3.txt':'18_39_14,18_44_20',\n",
    "              '20220708_4.txt':'19_50_57,19_58_42',\n",
    "              '20220710_1.txt':'15_33_54,15_38_45',\n",
    "              '20220710_2.txt':'16_19_48,16_28_38',\n",
    "              '20220710_4.txt':'19_45_29,19_51_55',\n",
    "              '20220711_1.txt':'12_56_46,13_01_24',\n",
    "              '20220711_2.txt':'14_11_57,14_18_08',\n",
    "              '20220711_4.txt':'19_46_22,19_52_28',\n",
    "              '20220713_2.txt':'20_06_46,20_14_25'\n",
    "}"
   ],
   "outputs": [],
   "execution_count": 5
  },
  {
   "cell_type": "code",
   "id": "53902162ffc137e6",
   "metadata": {
    "ExecuteTime": {
     "end_time": "2024-04-08T13:49:54.500878Z",
     "start_time": "2024-04-08T13:49:54.485870Z"
    }
   },
   "source": [],
   "outputs": [],
   "execution_count": 5
  },
  {
   "cell_type": "code",
   "id": "700de579f2c7b06e",
   "metadata": {
    "ExecuteTime": {
     "end_time": "2024-04-08T13:49:54.515582Z",
     "start_time": "2024-04-08T13:49:54.501878Z"
    }
   },
   "source": [
    "# file_path_list = [r'G:\\result_ADSB\\20220701.txt']\n",
    "file_path_list = [r'D:\\Project\\Convert_Dataset\\fusiondata\\filter_ADSB\\20220701_1.txt']\n",
    "lines = []\n",
    "for f in file_path_list:\n",
    "    fp =  open(f, 'r')\n",
    "    lines.extend(fp.readlines())"
   ],
   "outputs": [],
   "execution_count": 6
  },
  {
   "cell_type": "code",
   "id": "4eaba101d2e42dd1",
   "metadata": {
    "ExecuteTime": {
     "end_time": "2024-04-09T02:25:22.668554Z",
     "start_time": "2024-04-09T02:25:22.658986Z"
    }
   },
   "source": "",
   "outputs": [],
   "execution_count": null
  },
  {
   "cell_type": "code",
   "id": "493989e9f011480",
   "metadata": {
    "ExecuteTime": {
     "end_time": "2024-04-08T13:49:54.546043Z",
     "start_time": "2024-04-08T13:49:54.531789Z"
    }
   },
   "source": [
    "valid_keys = ['ADDR', 'CS', 'TRP', 'GH', 'LAT', 'LON', 'TRP','LONH','LATH']\n",
    "# LAT_start, LAT_end = 46.79138889-0.1, 46.81666667+0.1\n",
    "# LON_start, LON_end = 89.49138889-0.1, 89.53333333+0.1\n",
    "f_n = file_path_list.split('\\')[-1]\n",
    "f_n = f_n.replace()                      \n",
    "LAT_start, LAT_end = 46.79138889, 46.81666667\n",
    "LON_start, LON_end = 89.49138889, 89.53333333\n",
    "video2time[]\n",
    "# if file_path_list[0][-8:-4] == '0703':\n",
    "h_start,m_start,s_start = 19,54,8\n",
    "h_end,m_end,s_end = 19,59,52\n",
    "    \n",
    "\n",
    "TRP_start = s_start + m_start * 60 + (h_start-8) * 3600\n",
    "TRP_end = s_end + m_end * 60 + (h_end-8) * 3600\n",
    "print(len([l for l in lines if 'CS' not in l]))\n",
    "print(len([l for l in lines if 'LAT' not in l]))\n",
    "# print(len([l for l in lines if 'ADDR' not in l]))\n",
    "# print(len([l for l in lines if 'LON' not in l]))\n",
    "# print(len([l for l in lines if 'LATH' not in l]))\n",
    "# print(len([l for l in lines if 'LONH' not in l]))\n",
    "addr2dict = {}\n",
    "for line in lines:\n",
    "    if 'LAT' not in line:\n",
    "        continue\n",
    "    if 'LON' not in line:\n",
    "        continue\n",
    "        \n",
    "\n",
    "    line = line.split(',')\n",
    "    d = {}\n",
    "    \n",
    "    for kv in line:\n",
    "        k, v = kv.strip().split('=')\n",
    "        if k in valid_keys:\n",
    "            d[k] = v\n",
    "    \n",
    "#     if 'LAT' not in d:\n",
    "#         continue\n",
    "#     if 'LON' not in d:\n",
    "#         continue\n",
    "#     if 'LON' in d and 'LONH' in d:\n",
    "#         print(d['LON'])\n",
    "#         print(d['LONH'])\n",
    "#     if 'LAT' not in d:\n",
    "#         continue\n",
    "#     if 'LON' not in d:\n",
    "#         continue\n",
    "    d['LON'] = float(d['LON']) if 'LON' in d else float(d['LONH'])\n",
    "    d['LAT'] = float(d['LAT']) if 'LAT' in d else float(d['LATH'])\n",
    "    d['TRP'] = float(d['TRP'])\n",
    "#     if  'GH' in d and float(d['GH']) > 5000:\n",
    "#         continue\n",
    "    \n",
    "    \n",
    "    \n",
    "    if LAT_start < d['LAT'] < LAT_end and LON_start < d['LON'] < LON_end and d['TRP'] > TRP_start and d['TRP'] < TRP_end:\n",
    "#     if d['TRP'] > TRP_start and d['TRP'] < TRP_end:\n",
    "        d['GH'] = float(d['GH']) if 'GH' in d else None\n",
    "\n",
    "        if d['ADDR'] not in addr2dict:\n",
    "            addr2dict[d['ADDR']] = [d]\n",
    "        else:\n",
    "             addr2dict[d['ADDR']].append(d)"
   ],
   "outputs": [
    {
     "ename": "SyntaxError",
     "evalue": "EOL while scanning string literal (4203371863.py, line 4)",
     "output_type": "error",
     "traceback": [
      "\u001B[1;36m  Cell \u001B[1;32mIn[7], line 4\u001B[1;36m\u001B[0m\n\u001B[1;33m    f_n = file_path_list.split('\\')[-1]\u001B[0m\n\u001B[1;37m                                       ^\u001B[0m\n\u001B[1;31mSyntaxError\u001B[0m\u001B[1;31m:\u001B[0m EOL while scanning string literal\n"
     ]
    }
   ],
   "execution_count": 7
  },
  {
   "cell_type": "code",
   "id": "439fe3bf49086985",
   "metadata": {
    "ExecuteTime": {
     "end_time": "2024-04-08T13:49:54.546986Z",
     "start_time": "2024-04-08T13:49:54.546986Z"
    }
   },
   "source": [
    "addr2dict.keys()"
   ],
   "outputs": [],
   "execution_count": null
  },
  {
   "cell_type": "code",
   "id": "3472d3e7e16c729b",
   "metadata": {},
   "source": [
    "# k = '780E4D'\n",
    "k = '780899'\n",
    "addr_dict_list = addr2dict[k]\n",
    "min_lat, min_lon = 1000, 1000\n",
    "max_lat, max_lon = 0, 0\n",
    "min_t = 1000000000\n",
    "for d in addr_dict_list:\n",
    "    if d['LON'] > max_lon:\n",
    "        max_lon = d['LON']\n",
    "\n",
    "    if d['LAT'] > max_lat:\n",
    "        max_lat = d['LAT']\n",
    "\n",
    "\n",
    "    if d['LAT'] < min_lat:\n",
    "        min_lat = d['LAT']\n",
    "\n",
    "    if d['LON'] < min_lon:\n",
    "        min_lon = d['LON']\n",
    "\n",
    "    if d['TRP'] < min_t:\n",
    "        min_t = d['TRP']\n",
    "\n",
    "print(min_lat, min_lon, max_lat, max_lon)\n",
    "\n",
    "for d in addr_dict_list:\n",
    "    d['LON_new'] = d['LON'] - min_lon\n",
    "    d['LAT_new'] = d['LAT'] - min_lat\n",
    "    d['TRP_new'] = d['TRP'] - min_t\n",
    "    \n",
    "\n",
    "\n",
    "x_list = [d['LON_new']*111.32 for d in addr_dict_list]\n",
    "y_list = [d['LAT_new']*55.66 for d in addr_dict_list]\n",
    "t_list = [d['TRP_new'] for d in addr_dict_list]\n",
    "\n",
    "\n",
    "\n",
    "# !pip install pyecharts\n",
    "\n",
    "\n",
    "import pyecharts.options as opts\n",
    "from pyecharts.charts import Scatter3D  # 将制作3D散点图需要用到的库包导入\n",
    "c = (\n",
    "    Scatter3D()\n",
    "    .add(\n",
    "        '',\n",
    "        data = [[i,j,k] for i,j,k in zip(x_list, y_list, t_list)], # 数据：二维数组\n",
    "        \n",
    "        xaxis3d_opts=opts.Axis3DOpts( # x轴配置\n",
    "            name='XX',\n",
    "            type_=\"value\",\n",
    "        ),\n",
    "        yaxis3d_opts=opts.Axis3DOpts( # y轴配置\n",
    "            name='YY',\n",
    "            type_=\"value\",\n",
    "        ),\n",
    "        zaxis3d_opts=opts.Axis3DOpts( # z轴配置\n",
    "            name='TT',\n",
    "            type_=\"value\",\n",
    "        ),\n",
    "    )\n",
    "    .set_global_opts(\n",
    "        visualmap_opts=opts.VisualMapOpts(\n",
    "                max_= max(t_list),\n",
    "                range_color=[\n",
    "                    \"#1710c0\",\n",
    "                    \"#0b9df0\",\n",
    "                    \"#00fea8\",\n",
    "                    \"#00ff0d\",\n",
    "                    \"#f5f811\",\n",
    "                    \"#f09a09\",\n",
    "                    \"#fe0300\",\n",
    "                ],\n",
    "        ),\n",
    "    )\n",
    ")\n",
    "\n",
    "\n",
    "c.render_notebook()\n"
   ],
   "outputs": [],
   "execution_count": null
  },
  {
   "cell_type": "code",
   "id": "a16e48d0ff5253d7",
   "metadata": {},
   "source": [
    "addr2dict[k]"
   ],
   "outputs": [],
   "execution_count": null
  },
  {
   "cell_type": "code",
   "id": "c7e7cdf816d66f40",
   "metadata": {},
   "source": [
    "import json\n",
    "save_path = file_path_list[0].replace('result_ADSB','filter_ADSB').replace('.txt','_4.txt')\n",
    "# r'G:\\filter_ADSB\\20220701.txt'\n",
    "\n",
    "data = addr2dict[k]\n",
    "with open(save_path, \"w\") as json_file:\n",
    "    json.dump(data, json_file)"
   ],
   "outputs": [],
   "execution_count": null
  },
  {
   "cell_type": "code",
   "id": "98d8e14e1c8d6a32",
   "metadata": {},
   "source": [
    "with open(save_path, \"r\") as json_file_save:\n",
    "    data_filter = json.load(json_file_save)"
   ],
   "outputs": [],
   "execution_count": null
  },
  {
   "cell_type": "code",
   "id": "da56800c451566c3",
   "metadata": {},
   "source": [],
   "outputs": [],
   "execution_count": null
  },
  {
   "cell_type": "code",
   "id": "e61c293887435372",
   "metadata": {},
   "source": [
    "x_list"
   ],
   "outputs": [],
   "execution_count": null
  },
  {
   "cell_type": "code",
   "id": "22358a0d2bf73129",
   "metadata": {},
   "source": [
    "y_list"
   ],
   "outputs": [],
   "execution_count": null
  },
  {
   "cell_type": "code",
   "id": "e2e6055990338a62",
   "metadata": {},
   "source": [
    "t_list"
   ],
   "outputs": [],
   "execution_count": null
  },
  {
   "cell_type": "code",
   "id": "7bdd499c7750562a",
   "metadata": {},
   "source": [],
   "outputs": [],
   "execution_count": null
  },
  {
   "cell_type": "code",
   "id": "20899ff363784ada",
   "metadata": {},
   "source": [],
   "outputs": [],
   "execution_count": null
  }
 ],
 "metadata": {
  "kernelspec": {
   "display_name": "Python 3 (ipykernel)",
   "language": "python",
   "name": "python3"
  },
  "language_info": {
   "codemirror_mode": {
    "name": "ipython",
    "version": 3
   },
   "file_extension": ".py",
   "mimetype": "text/x-python",
   "name": "python",
   "nbconvert_exporter": "python",
   "pygments_lexer": "ipython3",
   "version": "3.8.18"
  }
 },
 "nbformat": 4,
 "nbformat_minor": 5
}
